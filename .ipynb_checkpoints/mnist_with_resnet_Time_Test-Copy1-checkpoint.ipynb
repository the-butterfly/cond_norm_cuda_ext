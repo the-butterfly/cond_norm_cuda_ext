{
 "cells": [
  {
   "cell_type": "code",
   "execution_count": 1,
   "metadata": {
    "ExecuteTime": {
     "end_time": "2020-01-10T06:54:09.793047Z",
     "start_time": "2020-01-10T06:54:09.789912Z"
    },
    "collapsed": true
   },
   "outputs": [],
   "source": [
    "import os\n",
    "import sys\n",
    "sys.path.insert(0, '../src_adv/')"
   ]
  },
  {
   "cell_type": "code",
   "execution_count": 2,
   "metadata": {
    "ExecuteTime": {
     "end_time": "2020-01-10T06:54:10.375093Z",
     "start_time": "2020-01-10T06:54:09.795272Z"
    }
   },
   "outputs": [
    {
     "name": "stdout",
     "output_type": "stream",
     "text": [
      "938 157\n"
     ]
    }
   ],
   "source": [
    "import torch\n",
    "import torch.nn as nn\n",
    "import torch.nn.functional as F\n",
    "import torch.optim as optim\n",
    "import torchvision\n",
    "from torchvision import datasets, transforms\n",
    "import matplotlib.pyplot as plt\n",
    "import numpy as np\n",
    "%matplotlib inline\n",
    "\n",
    "device = torch.device(\"cuda\" if torch.cuda.is_available() else \"cpu\")\n",
    "mnist_root = '../data/'\n",
    "# Training dataset\n",
    "train_loader = torch.utils.data.DataLoader(\n",
    "    datasets.MNIST(root=mnist_root, train=True, download=True,\n",
    "                   transform=transforms.Compose([\n",
    "                       transforms.ToTensor(),\n",
    "                   ])), batch_size=64, shuffle=True, num_workers=8)\n",
    "# Test dataset\n",
    "test_loader = torch.utils.data.DataLoader(\n",
    "    datasets.MNIST(root=mnist_root, train=False, transform=transforms.Compose([\n",
    "        transforms.ToTensor(),\n",
    "    ])), batch_size=64, shuffle=True, num_workers=4)\n",
    "\n",
    "fgsm_loader = torch.utils.data.DataLoader(\n",
    "    datasets.MNIST(root=mnist_root, train=False, transform=transforms.Compose([\n",
    "        transforms.ToTensor(),\n",
    "    ])), batch_size=1, shuffle=True, num_workers=4)\n",
    "\n",
    "print(len(train_loader), len(test_loader))\n",
    "\n",
    "from utils import train, test, train_pgd, train_pgd_plus\n",
    "# from utils_fix import train, test, train_pgd\n",
    "from functools import partial\n",
    "train_mnist_adv = partial(train_pgd, train_loader=train_loader, eps=0.1, niter=10, alpha=0.004)\n",
    "test_mnist = partial(test, data_loader=test_loader)"
   ]
  },
  {
   "cell_type": "code",
   "execution_count": 3,
   "metadata": {
    "ExecuteTime": {
     "end_time": "2020-01-10T06:54:10.385834Z",
     "start_time": "2020-01-10T06:54:10.376955Z"
    },
    "collapsed": true
   },
   "outputs": [],
   "source": [
    "# lr decay every 15 epoch\n",
    "def Pipeline(sdir, model, optimizer, name='', nepoch=50, bep=1, patience=15, \n",
    "             tloss=0.1, tacc=99, crit=nn.CrossEntropyLoss()):\n",
    "    if not os.path.isdir(sdir):\n",
    "        os.makedirs(sdir)\n",
    "    scheduler = optim.lr_scheduler.StepLR(optimizer, step_size=patience)\n",
    "    for epoch in range(bep, nepoch+bep):\n",
    "        train_mnist_adv(model, epoch=epoch, optimizer=optimizer, crit=crit)\n",
    "        vloss,vacc = test_mnist(model,test_crit=crit)\n",
    "        scheduler.step()\n",
    "        if tloss>vloss or vacc>tacc:    # save best model\n",
    "            torch.save(model.state_dict(), '%s/%s_ep-%02d_vloss-%.4f_vacc-%.2f.pt' % (sdir, name, epoch, vloss, vacc))\n",
    "            tloss = vloss; tacc = vacc\n",
    "    return tloss, tacc"
   ]
  },
  {
   "cell_type": "code",
   "execution_count": 4,
   "metadata": {
    "ExecuteTime": {
     "end_time": "2020-01-10T06:54:10.495836Z",
     "start_time": "2020-01-10T06:54:10.387749Z"
    },
    "code_folding": [
     22,
     33,
     42
    ],
    "collapsed": true
   },
   "outputs": [],
   "source": [
    "from torch._jit_internal import weak_module, weak_script_method, List\n",
    "\n",
    "@weak_module\n",
    "class condNorm(nn.Module):\n",
    "    def __init__(self, planes=64, std=1.0, minl=1.0, eps=1e-5):\n",
    "        super().__init__()\n",
    "        self.planes = planes\n",
    "        self.std = std\n",
    "        self.minl = minl\n",
    "        self.eps = eps\n",
    "    \n",
    "    def forward(self, x):\n",
    "        # x: N x C x H x W,  4D Tensor\n",
    "        x = x - x.mean([2,3], keepdim=True)\n",
    "        norm = torch.sqrt(torch.mean(x**2, dim=[2,3], keepdim=True) + self.eps)\n",
    "        x = self.std * x / torch.max(norm, self.minl*torch.ones_like(norm))\n",
    "        return x\n",
    "    \n",
    "from torch.autograd import Variable\n",
    "import torch.optim as optim\n",
    "%matplotlib inline\n",
    "\n",
    "def convert_np(inp, group=8):\n",
    "    inp = inp.detach().cpu().squeeze()\n",
    "    n, h, w = inp.shape\n",
    "    t = n // group\n",
    "    g = group\n",
    "    out = [inp[i:i+g].view(h*g,w) for i in range(0, n, g)]\n",
    "    out = torch.cat(out, -1)\n",
    "    out = np.clip(out.detach().cpu().numpy(), 0, 1)\n",
    "    return out\n",
    "\n",
    "\n",
    "def show_batch(inp1, inp2, dpi=130):\n",
    "    out1 = convert_np(inp1)\n",
    "    out2 = convert_np(inp2)\n",
    "    fig, ax = plt.subplots(1,2, dpi=dpi)\n",
    "    ax[0].imshow(out1, cmap='gray')\n",
    "    ax[1].imshow(out2, cmap='gray')\n",
    "    plt.show()\n",
    "    \n",
    "\n",
    "def advs_pgd(model, X, y, epsilon, niters=100, alpha=0.01): \n",
    "    out = model(X)\n",
    "    ce = nn.CrossEntropyLoss()(out, y)\n",
    "    err = (out.data.max(1)[1] != y.data).float().sum()  / X.size(0)\n",
    "\n",
    "    X_pgd = Variable(X.data, requires_grad=True)\n",
    "    for i in range(niters): \n",
    "        opt = optim.Adam([X_pgd], lr=1e-3)\n",
    "        opt.zero_grad()\n",
    "        loss = nn.CrossEntropyLoss()(model(X_pgd), y)\n",
    "        loss.backward()\n",
    "        eta = alpha*X_pgd.grad.data.sign()\n",
    "        X_pgd = Variable(X_pgd.data + eta, requires_grad=True)\n",
    "        \n",
    "        # adjust to be within [-epsilon, epsilon]\n",
    "        eta = torch.clamp(X_pgd.data - X.data, -epsilon, epsilon)\n",
    "        X_pgd = Variable(X.data + eta, requires_grad=True)\n",
    "        \n",
    "    err_pgd = (model(X_pgd).data.max(1)[1] != y.data).float().sum() / X.size(0)\n",
    "    print(\"err: %.2f%% %.2f%%\" % (err*100, err_pgd*100))\n",
    "    return X_pgd"
   ]
  },
  {
   "cell_type": "code",
   "execution_count": null,
   "metadata": {
    "collapsed": true
   },
   "outputs": [],
   "source": []
  },
  {
   "cell_type": "markdown",
   "metadata": {},
   "source": [
    "# Test Time"
   ]
  },
  {
   "cell_type": "markdown",
   "metadata": {
    "heading_collapsed": true
   },
   "source": [
    "## pure conv"
   ]
  },
  {
   "cell_type": "code",
   "execution_count": 5,
   "metadata": {
    "ExecuteTime": {
     "end_time": "2020-01-08T06:02:40.643405Z",
     "start_time": "2020-01-08T06:02:37.426372Z"
    },
    "hidden": true
   },
   "outputs": [
    {
     "name": "stdout",
     "output_type": "stream",
     "text": [
      "Number of Parameters:  11163210\n",
      "Training Parameters:  11163210\n"
     ]
    }
   ],
   "source": [
    "from sim_model.res_free import ResNet18\n",
    "\n",
    "model = ResNet18().to(device)\n",
    "print('Number of Parameters: ', sum([p.numel() for p in model.parameters()]))\n",
    "print('Training Parameters: ', sum([p.numel() for p in model.parameters() if p.requires_grad]))\n",
    "model"
   ]
  },
  {
   "cell_type": "code",
   "execution_count": null,
   "metadata": {
    "ExecuteTime": {
     "start_time": "2020-01-08T05:25:04.258Z"
    },
    "deletable": false,
    "editable": false,
    "hidden": true,
    "run_control": {
     "frozen": true
    },
    "scrolled": true
   },
   "outputs": [
    {
     "name": "stdout",
     "output_type": "stream",
     "text": [
      "Train Epoch: 1 [29952/60000 (50%)]\tAvgloss: 0.578816\tTime: 102.7\n",
      "Train Epoch: 1 [59904/60000 (100%)]\tAvgloss: 0.104882\tTime: 206.6\n",
      "                                                   \n",
      "Test set: Avg loss: 0.0528 |  Accuracy: 98.46 | \n",
      "\n",
      "Train Epoch: 2 [29952/60000 (50%)]\tAvgloss: 0.079633\tTime: 103.0\n",
      "Train Epoch: 2 [59904/60000 (100%)]\tAvgloss: 0.076035\tTime: 205.5\n",
      "                                                   \n",
      "Test set: Avg loss: 0.0503 |  Accuracy: 98.75 | \n",
      "\n",
      "step: 0026/0938 loss: 0.0746 |\r"
     ]
    }
   ],
   "source": [
    "sdir = './runs/tmp_time_test'\n",
    "optimizer = optim.Adam(model.parameters(), lr=0.001, weight_decay=1e-4)\n",
    "tloss, tacc = Pipeline(sdir, model, optimizer, 'res18_free', 45)"
   ]
  },
  {
   "cell_type": "code",
   "execution_count": null,
   "metadata": {
    "collapsed": true,
    "hidden": true
   },
   "outputs": [],
   "source": []
  },
  {
   "cell_type": "code",
   "execution_count": null,
   "metadata": {
    "ExecuteTime": {
     "start_time": "2020-01-08T06:02:43.503Z"
    },
    "deletable": false,
    "editable": false,
    "hidden": true,
    "run_control": {
     "frozen": true
    },
    "scrolled": true
   },
   "outputs": [
    {
     "name": "stdout",
     "output_type": "stream",
     "text": [
      "Train Epoch: 1 [29952/60000 (50%)]\tAvgloss: 0.386317\tTime: 105.4\n",
      "Train Epoch: 1 [59904/60000 (100%)]\tAvgloss: 0.101694\tTime: 210.2\n",
      "                                                   \n",
      "Test set: Avg loss: 0.0449 |  Accuracy: 98.58 | \n",
      "\n",
      "Train Epoch: 2 [29952/60000 (50%)]\tAvgloss: 0.078865\tTime: 105.2\n",
      "Train Epoch: 2 [59904/60000 (100%)]\tAvgloss: 0.069506\tTime: 210.3\n",
      "                                                   \n",
      "Test set: Avg loss: 0.0311 |  Accuracy: 99.06 | \n",
      "\n",
      "step: 0031/0938 loss: 0.0226 |\r"
     ]
    }
   ],
   "source": [
    "sdir = './runs/tmp_time_test'\n",
    "optimizer = optim.Adam(model.parameters(), lr=0.001, weight_decay=1e-4)\n",
    "tloss, tacc = Pipeline(sdir, model, optimizer, 'res18_free', 45)"
   ]
  },
  {
   "cell_type": "code",
   "execution_count": null,
   "metadata": {
    "collapsed": true,
    "hidden": true
   },
   "outputs": [],
   "source": []
  },
  {
   "cell_type": "markdown",
   "metadata": {},
   "source": [
    "## +bn "
   ]
  },
  {
   "cell_type": "code",
   "execution_count": 5,
   "metadata": {
    "ExecuteTime": {
     "end_time": "2020-01-08T05:33:11.809660Z",
     "start_time": "2020-01-08T05:33:08.709690Z"
    },
    "scrolled": true
   },
   "outputs": [
    {
     "name": "stdout",
     "output_type": "stream",
     "text": [
      "Number of Parameters:  11172682\n",
      "Training Parameters:  11172682\n"
     ]
    },
    {
     "data": {
      "text/plain": [
       "ResNet(\n",
       "  (conv1): Conv2d(1, 64, kernel_size=(3, 3), stride=(1, 1), padding=(1, 1), bias=False)\n",
       "  (layer1): Sequential(\n",
       "    (0): BasicBlock(\n",
       "      (conv1): Conv2d(64, 64, kernel_size=(3, 3), stride=(1, 1), padding=(1, 1), bias=False)\n",
       "      (bn1): BatchNorm2d(64, eps=1e-05, momentum=0.1, affine=True, track_running_stats=True)\n",
       "      (conv2): Conv2d(64, 64, kernel_size=(3, 3), stride=(1, 1), padding=(1, 1), bias=False)\n",
       "      (bn2): BatchNorm2d(64, eps=1e-05, momentum=0.1, affine=True, track_running_stats=True)\n",
       "      (shortcut): Sequential()\n",
       "    )\n",
       "    (1): BasicBlock(\n",
       "      (conv1): Conv2d(64, 64, kernel_size=(3, 3), stride=(1, 1), padding=(1, 1), bias=False)\n",
       "      (bn1): BatchNorm2d(64, eps=1e-05, momentum=0.1, affine=True, track_running_stats=True)\n",
       "      (conv2): Conv2d(64, 64, kernel_size=(3, 3), stride=(1, 1), padding=(1, 1), bias=False)\n",
       "      (bn2): BatchNorm2d(64, eps=1e-05, momentum=0.1, affine=True, track_running_stats=True)\n",
       "      (shortcut): Sequential()\n",
       "    )\n",
       "  )\n",
       "  (layer2): Sequential(\n",
       "    (0): BasicBlock(\n",
       "      (conv1): Conv2d(64, 128, kernel_size=(3, 3), stride=(2, 2), padding=(1, 1), bias=False)\n",
       "      (bn1): BatchNorm2d(128, eps=1e-05, momentum=0.1, affine=True, track_running_stats=True)\n",
       "      (conv2): Conv2d(128, 128, kernel_size=(3, 3), stride=(1, 1), padding=(1, 1), bias=False)\n",
       "      (bn2): BatchNorm2d(128, eps=1e-05, momentum=0.1, affine=True, track_running_stats=True)\n",
       "      (shortcut): Sequential(\n",
       "        (0): Conv2d(64, 128, kernel_size=(1, 1), stride=(2, 2), bias=False)\n",
       "        (1): BatchNorm2d(128, eps=1e-05, momentum=0.1, affine=True, track_running_stats=True)\n",
       "      )\n",
       "    )\n",
       "    (1): BasicBlock(\n",
       "      (conv1): Conv2d(128, 128, kernel_size=(3, 3), stride=(1, 1), padding=(1, 1), bias=False)\n",
       "      (bn1): BatchNorm2d(128, eps=1e-05, momentum=0.1, affine=True, track_running_stats=True)\n",
       "      (conv2): Conv2d(128, 128, kernel_size=(3, 3), stride=(1, 1), padding=(1, 1), bias=False)\n",
       "      (bn2): BatchNorm2d(128, eps=1e-05, momentum=0.1, affine=True, track_running_stats=True)\n",
       "      (shortcut): Sequential()\n",
       "    )\n",
       "  )\n",
       "  (layer3): Sequential(\n",
       "    (0): BasicBlock(\n",
       "      (conv1): Conv2d(128, 256, kernel_size=(3, 3), stride=(2, 2), padding=(1, 1), bias=False)\n",
       "      (bn1): BatchNorm2d(256, eps=1e-05, momentum=0.1, affine=True, track_running_stats=True)\n",
       "      (conv2): Conv2d(256, 256, kernel_size=(3, 3), stride=(1, 1), padding=(1, 1), bias=False)\n",
       "      (bn2): BatchNorm2d(256, eps=1e-05, momentum=0.1, affine=True, track_running_stats=True)\n",
       "      (shortcut): Sequential(\n",
       "        (0): Conv2d(128, 256, kernel_size=(1, 1), stride=(2, 2), bias=False)\n",
       "        (1): BatchNorm2d(256, eps=1e-05, momentum=0.1, affine=True, track_running_stats=True)\n",
       "      )\n",
       "    )\n",
       "    (1): BasicBlock(\n",
       "      (conv1): Conv2d(256, 256, kernel_size=(3, 3), stride=(1, 1), padding=(1, 1), bias=False)\n",
       "      (bn1): BatchNorm2d(256, eps=1e-05, momentum=0.1, affine=True, track_running_stats=True)\n",
       "      (conv2): Conv2d(256, 256, kernel_size=(3, 3), stride=(1, 1), padding=(1, 1), bias=False)\n",
       "      (bn2): BatchNorm2d(256, eps=1e-05, momentum=0.1, affine=True, track_running_stats=True)\n",
       "      (shortcut): Sequential()\n",
       "    )\n",
       "  )\n",
       "  (layer4): Sequential(\n",
       "    (0): BasicBlock(\n",
       "      (conv1): Conv2d(256, 512, kernel_size=(3, 3), stride=(2, 2), padding=(1, 1), bias=False)\n",
       "      (bn1): BatchNorm2d(512, eps=1e-05, momentum=0.1, affine=True, track_running_stats=True)\n",
       "      (conv2): Conv2d(512, 512, kernel_size=(3, 3), stride=(1, 1), padding=(1, 1), bias=False)\n",
       "      (bn2): BatchNorm2d(512, eps=1e-05, momentum=0.1, affine=True, track_running_stats=True)\n",
       "      (shortcut): Sequential(\n",
       "        (0): Conv2d(256, 512, kernel_size=(1, 1), stride=(2, 2), bias=False)\n",
       "        (1): BatchNorm2d(512, eps=1e-05, momentum=0.1, affine=True, track_running_stats=True)\n",
       "      )\n",
       "    )\n",
       "    (1): BasicBlock(\n",
       "      (conv1): Conv2d(512, 512, kernel_size=(3, 3), stride=(1, 1), padding=(1, 1), bias=False)\n",
       "      (bn1): BatchNorm2d(512, eps=1e-05, momentum=0.1, affine=True, track_running_stats=True)\n",
       "      (conv2): Conv2d(512, 512, kernel_size=(3, 3), stride=(1, 1), padding=(1, 1), bias=False)\n",
       "      (bn2): BatchNorm2d(512, eps=1e-05, momentum=0.1, affine=True, track_running_stats=True)\n",
       "      (shortcut): Sequential()\n",
       "    )\n",
       "  )\n",
       "  (gap): AdaptiveAvgPool2d(output_size=1)\n",
       "  (linear): Linear(in_features=512, out_features=10, bias=True)\n",
       ")"
      ]
     },
     "execution_count": 5,
     "metadata": {},
     "output_type": "execute_result"
    }
   ],
   "source": [
    "from sim_model.res_new import ResNet18\n",
    "\n",
    "model = ResNet18().to(device)  # BN default\n",
    "print('Number of Parameters: ', sum([p.numel() for p in model.parameters()]))\n",
    "print('Training Parameters: ', sum([p.numel() for p in model.parameters() if p.requires_grad]))\n",
    "model"
   ]
  },
  {
   "cell_type": "code",
   "execution_count": null,
   "metadata": {
    "ExecuteTime": {
     "start_time": "2020-01-08T05:33:09.635Z"
    },
    "deletable": false,
    "editable": false,
    "run_control": {
     "frozen": true
    },
    "scrolled": true
   },
   "outputs": [
    {
     "name": "stdout",
     "output_type": "stream",
     "text": [
      "Train Epoch: 1 [29952/60000 (50%)]\tAvgloss: 0.188499\tTime: 121.2\n",
      "Train Epoch: 1 [59904/60000 (100%)]\tAvgloss: 0.080126\tTime: 241.3\n",
      "                                                   \n",
      "Test set: Avg loss: 0.0525 |  Accuracy: 98.32 | \n",
      "\n",
      "Train Epoch: 2 [29952/60000 (50%)]\tAvgloss: 0.065976\tTime: 120.6\n",
      "Train Epoch: 2 [59904/60000 (100%)]\tAvgloss: 0.062390\tTime: 240.7\n",
      "                                                   \n",
      "Test set: Avg loss: 0.0370 |  Accuracy: 98.86 | \n",
      "\n",
      "Train Epoch: 3 [29952/60000 (50%)]\tAvgloss: 0.053412\tTime: 120.4\n",
      "Train Epoch: 3 [59904/60000 (100%)]\tAvgloss: 0.058397\tTime: 240.4\n",
      "                                                   \n",
      "Test set: Avg loss: 0.0430 |  Accuracy: 98.77 | \n",
      "\n",
      "Train Epoch: 4 [29952/60000 (50%)]\tAvgloss: 0.049310\tTime: 120.2\n",
      "Train Epoch: 4 [59904/60000 (100%)]\tAvgloss: 0.048004\tTime: 240.0\n",
      "                                                   \n",
      "Test set: Avg loss: 0.0480 |  Accuracy: 98.56 | \n",
      "\n",
      "Train Epoch: 5 [29952/60000 (50%)]\tAvgloss: 0.042410\tTime: 120.0\n",
      "Train Epoch: 5 [59904/60000 (100%)]\tAvgloss: 0.043180\tTime: 239.3\n",
      "                                                   \n",
      "Test set: Avg loss: 0.0245 |  Accuracy: 99.27 | \n",
      "\n",
      "step: 0160/0938 loss: 0.0846 |\r"
     ]
    }
   ],
   "source": [
    "sdir = './runs/tmp_time_test'\n",
    "optimizer = optim.Adam(model.parameters(), lr=0.001, weight_decay=1e-4)\n",
    "tloss, tacc = Pipeline(sdir, model, optimizer, 'res18_bn', 45)"
   ]
  },
  {
   "cell_type": "code",
   "execution_count": null,
   "metadata": {
    "collapsed": true
   },
   "outputs": [],
   "source": []
  },
  {
   "cell_type": "code",
   "execution_count": null,
   "metadata": {
    "ExecuteTime": {
     "start_time": "2020-01-08T05:33:09.635Z"
    },
    "scrolled": true
   },
   "outputs": [
    {
     "name": "stdout",
     "output_type": "stream",
     "text": [
      "Train Epoch: 1 [29952/60000 (50%)]\tAvgloss: 0.188499\tTime: 121.2\n",
      "Train Epoch: 1 [59904/60000 (100%)]\tAvgloss: 0.080126\tTime: 241.3\n",
      "                                                   \n",
      "Test set: Avg loss: 0.0525 |  Accuracy: 98.32 | \n",
      "\n",
      "Train Epoch: 2 [29952/60000 (50%)]\tAvgloss: 0.065976\tTime: 120.6\n",
      "Train Epoch: 2 [59904/60000 (100%)]\tAvgloss: 0.062390\tTime: 240.7\n",
      "                                                   \n",
      "Test set: Avg loss: 0.0370 |  Accuracy: 98.86 | \n",
      "\n",
      "Train Epoch: 3 [29952/60000 (50%)]\tAvgloss: 0.053412\tTime: 120.4\n",
      "Train Epoch: 3 [59904/60000 (100%)]\tAvgloss: 0.058397\tTime: 240.4\n",
      "                                                   \n",
      "Test set: Avg loss: 0.0430 |  Accuracy: 98.77 | \n",
      "\n",
      "Train Epoch: 4 [29952/60000 (50%)]\tAvgloss: 0.049310\tTime: 120.2\n",
      "Train Epoch: 4 [59904/60000 (100%)]\tAvgloss: 0.048004\tTime: 240.0\n",
      "                                                   \n",
      "Test set: Avg loss: 0.0480 |  Accuracy: 98.56 | \n",
      "\n",
      "Train Epoch: 5 [29952/60000 (50%)]\tAvgloss: 0.042410\tTime: 120.0\n",
      "Train Epoch: 5 [59904/60000 (100%)]\tAvgloss: 0.043180\tTime: 239.3\n",
      "                                                   \n",
      "Test set: Avg loss: 0.0245 |  Accuracy: 99.27 | \n",
      "\n",
      "step: 0160/0938 loss: 0.0846 |\r"
     ]
    }
   ],
   "source": [
    "sdir = './runs/tmp_time_test'\n",
    "optimizer = optim.Adam(model.parameters(), lr=0.001, weight_decay=1e-4)\n",
    "tloss, tacc = Pipeline(sdir, model, optimizer, 'res18_bn', 45)"
   ]
  },
  {
   "cell_type": "code",
   "execution_count": null,
   "metadata": {
    "collapsed": true
   },
   "outputs": [],
   "source": []
  },
  {
   "cell_type": "markdown",
   "metadata": {},
   "source": [
    "## +cn "
   ]
  },
  {
   "cell_type": "code",
   "execution_count": 5,
   "metadata": {
    "ExecuteTime": {
     "end_time": "2020-01-08T08:07:51.182862Z",
     "start_time": "2020-01-08T08:07:48.057672Z"
    },
    "scrolled": true
   },
   "outputs": [
    {
     "name": "stdout",
     "output_type": "stream",
     "text": [
      "Number of Parameters:  11165002\n",
      "Training Parameters:  11165002\n"
     ]
    },
    {
     "data": {
      "text/plain": [
       "ResNet(\n",
       "  (conv1): Conv2d(1, 64, kernel_size=(3, 3), stride=(1, 1), padding=(1, 1), bias=False)\n",
       "  (layer1): Sequential(\n",
       "    (0): BasicBlock(\n",
       "      (conv1): Conv2d(64, 64, kernel_size=(3, 3), stride=(1, 1), padding=(1, 1), bias=False)\n",
       "      (bn1): condNorm()\n",
       "      (conv2): Conv2d(64, 64, kernel_size=(3, 3), stride=(1, 1), padding=(1, 1), bias=False)\n",
       "      (bn2): condNorm()\n",
       "      (shortcut): Sequential()\n",
       "    )\n",
       "    (1): BasicBlock(\n",
       "      (conv1): Conv2d(64, 64, kernel_size=(3, 3), stride=(1, 1), padding=(1, 1), bias=False)\n",
       "      (bn1): condNorm()\n",
       "      (conv2): Conv2d(64, 64, kernel_size=(3, 3), stride=(1, 1), padding=(1, 1), bias=False)\n",
       "      (bn2): condNorm()\n",
       "      (shortcut): Sequential()\n",
       "    )\n",
       "  )\n",
       "  (layer2): Sequential(\n",
       "    (0): BasicBlock(\n",
       "      (conv1): Conv2d(64, 128, kernel_size=(3, 3), stride=(2, 2), padding=(1, 1), bias=False)\n",
       "      (bn1): condNorm()\n",
       "      (conv2): Conv2d(128, 128, kernel_size=(3, 3), stride=(1, 1), padding=(1, 1), bias=False)\n",
       "      (bn2): condNorm()\n",
       "      (shortcut): Sequential(\n",
       "        (0): Conv2d(64, 128, kernel_size=(1, 1), stride=(2, 2), bias=False)\n",
       "        (1): BatchNorm2d(128, eps=1e-05, momentum=0.1, affine=True, track_running_stats=True)\n",
       "      )\n",
       "    )\n",
       "    (1): BasicBlock(\n",
       "      (conv1): Conv2d(128, 128, kernel_size=(3, 3), stride=(1, 1), padding=(1, 1), bias=False)\n",
       "      (bn1): condNorm()\n",
       "      (conv2): Conv2d(128, 128, kernel_size=(3, 3), stride=(1, 1), padding=(1, 1), bias=False)\n",
       "      (bn2): condNorm()\n",
       "      (shortcut): Sequential()\n",
       "    )\n",
       "  )\n",
       "  (layer3): Sequential(\n",
       "    (0): BasicBlock(\n",
       "      (conv1): Conv2d(128, 256, kernel_size=(3, 3), stride=(2, 2), padding=(1, 1), bias=False)\n",
       "      (bn1): condNorm()\n",
       "      (conv2): Conv2d(256, 256, kernel_size=(3, 3), stride=(1, 1), padding=(1, 1), bias=False)\n",
       "      (bn2): condNorm()\n",
       "      (shortcut): Sequential(\n",
       "        (0): Conv2d(128, 256, kernel_size=(1, 1), stride=(2, 2), bias=False)\n",
       "        (1): BatchNorm2d(256, eps=1e-05, momentum=0.1, affine=True, track_running_stats=True)\n",
       "      )\n",
       "    )\n",
       "    (1): BasicBlock(\n",
       "      (conv1): Conv2d(256, 256, kernel_size=(3, 3), stride=(1, 1), padding=(1, 1), bias=False)\n",
       "      (bn1): condNorm()\n",
       "      (conv2): Conv2d(256, 256, kernel_size=(3, 3), stride=(1, 1), padding=(1, 1), bias=False)\n",
       "      (bn2): condNorm()\n",
       "      (shortcut): Sequential()\n",
       "    )\n",
       "  )\n",
       "  (layer4): Sequential(\n",
       "    (0): BasicBlock(\n",
       "      (conv1): Conv2d(256, 512, kernel_size=(3, 3), stride=(2, 2), padding=(1, 1), bias=False)\n",
       "      (bn1): condNorm()\n",
       "      (conv2): Conv2d(512, 512, kernel_size=(3, 3), stride=(1, 1), padding=(1, 1), bias=False)\n",
       "      (bn2): condNorm()\n",
       "      (shortcut): Sequential(\n",
       "        (0): Conv2d(256, 512, kernel_size=(1, 1), stride=(2, 2), bias=False)\n",
       "        (1): BatchNorm2d(512, eps=1e-05, momentum=0.1, affine=True, track_running_stats=True)\n",
       "      )\n",
       "    )\n",
       "    (1): BasicBlock(\n",
       "      (conv1): Conv2d(512, 512, kernel_size=(3, 3), stride=(1, 1), padding=(1, 1), bias=False)\n",
       "      (bn1): condNorm()\n",
       "      (conv2): Conv2d(512, 512, kernel_size=(3, 3), stride=(1, 1), padding=(1, 1), bias=False)\n",
       "      (bn2): condNorm()\n",
       "      (shortcut): Sequential()\n",
       "    )\n",
       "  )\n",
       "  (gap): AdaptiveAvgPool2d(output_size=1)\n",
       "  (linear): Linear(in_features=512, out_features=10, bias=True)\n",
       ")"
      ]
     },
     "execution_count": 5,
     "metadata": {},
     "output_type": "execute_result"
    }
   ],
   "source": [
    "from sim_model.res_new import ResNet18\n",
    "\n",
    "# @weak_module\n",
    "class condNorm(nn.Module):\n",
    "    def __init__(self, planes=64, std=1.0, minl=1.0, eps=1e-5):\n",
    "        super().__init__()\n",
    "        self.planes = planes\n",
    "        self.std = std\n",
    "        self.minl = minl\n",
    "        self.eps = eps\n",
    "    \n",
    "    def forward(self, x):\n",
    "        # x: N x C x H x W,  4D Tensor\n",
    "        x = x - x.mean([0,2,3], keepdim=True)\n",
    "        norm = torch.sqrt(torch.mean(x**2, dim=[0,2,3], keepdim=True) + self.eps)\n",
    "        x = self.std * x / torch.max(norm, self.minl*torch.ones_like(norm))\n",
    "        return x\n",
    "    \n",
    "model = ResNet18(normlayer=condNorm).to(device)  # BN default\n",
    "print('Number of Parameters: ', sum([p.numel() for p in model.parameters()]))\n",
    "print('Training Parameters: ', sum([p.numel() for p in model.parameters() if p.requires_grad]))\n",
    "model"
   ]
  },
  {
   "cell_type": "code",
   "execution_count": null,
   "metadata": {
    "ExecuteTime": {
     "start_time": "2020-01-08T08:07:57.194Z"
    }
   },
   "outputs": [
    {
     "name": "stdout",
     "output_type": "stream",
     "text": [
      "Train Epoch: 1 [29952/60000 (50%)]\tAvgloss: 0.191948\tTime: 176.8\n",
      "Train Epoch: 1 [59904/60000 (100%)]\tAvgloss: 0.086995\tTime: 353.0\n",
      "                                                   \n",
      "Test set: Avg loss: 0.0607 |  Accuracy: 98.15 | \n",
      "\n",
      "Train Epoch: 2 [29952/60000 (50%)]\tAvgloss: 0.073682\tTime: 178.1\n",
      "Train Epoch: 2 [59904/60000 (100%)]\tAvgloss: 0.077037\tTime: 354.6\n",
      "                                                   \n",
      "Test set: Avg loss: 0.0364 |  Accuracy: 98.99 | \n",
      "\n",
      "Train Epoch: 3 [29952/60000 (50%)]\tAvgloss: 0.073153\tTime: 178.9\n",
      "Train Epoch: 3 [59904/60000 (100%)]\tAvgloss: 0.067797\tTime: 357.1\n",
      "                                                   \n",
      "Test set: Avg loss: 0.0377 |  Accuracy: 98.73 | \n",
      "\n",
      "Train Epoch: 4 [29952/60000 (50%)]\tAvgloss: 0.066590\tTime: 179.5\n",
      "Train Epoch: 4 [59904/60000 (100%)]\tAvgloss: 0.066165\tTime: 358.4\n",
      "                                                   \n",
      "Test set: Avg loss: 0.0402 |  Accuracy: 98.73 | \n",
      "\n",
      "step: 0058/0938 loss: 0.0139 |\r"
     ]
    }
   ],
   "source": [
    "sdir = './runs/tmp_time_test'\n",
    "optimizer = optim.Adam(model.parameters(), lr=0.001, weight_decay=1e-4)\n",
    "tloss, tacc = Pipeline(sdir, model, optimizer, 'res18_bcn', 45)"
   ]
  },
  {
   "cell_type": "code",
   "execution_count": null,
   "metadata": {
    "collapsed": true
   },
   "outputs": [],
   "source": []
  },
  {
   "cell_type": "code",
   "execution_count": null,
   "metadata": {
    "collapsed": true
   },
   "outputs": [],
   "source": []
  },
  {
   "cell_type": "markdown",
   "metadata": {},
   "source": [
    "# fix inplace +bcn(cuda update) "
   ]
  },
  {
   "cell_type": "code",
   "execution_count": 5,
   "metadata": {
    "ExecuteTime": {
     "end_time": "2020-01-10T05:12:09.999607Z",
     "start_time": "2020-01-10T05:12:06.929711Z"
    },
    "scrolled": true
   },
   "outputs": [
    {
     "name": "stdout",
     "output_type": "stream",
     "text": [
      "Number of Parameters:  11172682\n",
      "Training Parameters:  11172682\n"
     ]
    },
    {
     "data": {
      "text/plain": [
       "ResNet(\n",
       "  (conv1): Conv2d(1, 64, kernel_size=(3, 3), stride=(1, 1), padding=(1, 1), bias=False)\n",
       "  (layer1): Sequential(\n",
       "    (0): BasicBlock(\n",
       "      (conv1): Conv2d(64, 64, kernel_size=(3, 3), stride=(1, 1), padding=(1, 1), bias=False)\n",
       "      (bn1): TCondNorm(planes=64, minl=1.0, epsilon=1e-05)\n",
       "      (conv2): Conv2d(64, 64, kernel_size=(3, 3), stride=(1, 1), padding=(1, 1), bias=False)\n",
       "      (bn2): TCondNorm(planes=64, minl=1.0, epsilon=1e-05)\n",
       "      (shortcut): Sequential()\n",
       "    )\n",
       "    (1): BasicBlock(\n",
       "      (conv1): Conv2d(64, 64, kernel_size=(3, 3), stride=(1, 1), padding=(1, 1), bias=False)\n",
       "      (bn1): TCondNorm(planes=64, minl=1.0, epsilon=1e-05)\n",
       "      (conv2): Conv2d(64, 64, kernel_size=(3, 3), stride=(1, 1), padding=(1, 1), bias=False)\n",
       "      (bn2): TCondNorm(planes=64, minl=1.0, epsilon=1e-05)\n",
       "      (shortcut): Sequential()\n",
       "    )\n",
       "  )\n",
       "  (layer2): Sequential(\n",
       "    (0): BasicBlock(\n",
       "      (conv1): Conv2d(64, 128, kernel_size=(3, 3), stride=(2, 2), padding=(1, 1), bias=False)\n",
       "      (bn1): TCondNorm(planes=128, minl=1.0, epsilon=1e-05)\n",
       "      (conv2): Conv2d(128, 128, kernel_size=(3, 3), stride=(1, 1), padding=(1, 1), bias=False)\n",
       "      (bn2): TCondNorm(planes=128, minl=1.0, epsilon=1e-05)\n",
       "      (shortcut): Sequential(\n",
       "        (0): Conv2d(64, 128, kernel_size=(1, 1), stride=(2, 2), bias=False)\n",
       "        (1): BatchNorm2d(128, eps=1e-05, momentum=0.1, affine=True, track_running_stats=True)\n",
       "      )\n",
       "    )\n",
       "    (1): BasicBlock(\n",
       "      (conv1): Conv2d(128, 128, kernel_size=(3, 3), stride=(1, 1), padding=(1, 1), bias=False)\n",
       "      (bn1): TCondNorm(planes=128, minl=1.0, epsilon=1e-05)\n",
       "      (conv2): Conv2d(128, 128, kernel_size=(3, 3), stride=(1, 1), padding=(1, 1), bias=False)\n",
       "      (bn2): TCondNorm(planes=128, minl=1.0, epsilon=1e-05)\n",
       "      (shortcut): Sequential()\n",
       "    )\n",
       "  )\n",
       "  (layer3): Sequential(\n",
       "    (0): BasicBlock(\n",
       "      (conv1): Conv2d(128, 256, kernel_size=(3, 3), stride=(2, 2), padding=(1, 1), bias=False)\n",
       "      (bn1): TCondNorm(planes=256, minl=1.0, epsilon=1e-05)\n",
       "      (conv2): Conv2d(256, 256, kernel_size=(3, 3), stride=(1, 1), padding=(1, 1), bias=False)\n",
       "      (bn2): TCondNorm(planes=256, minl=1.0, epsilon=1e-05)\n",
       "      (shortcut): Sequential(\n",
       "        (0): Conv2d(128, 256, kernel_size=(1, 1), stride=(2, 2), bias=False)\n",
       "        (1): BatchNorm2d(256, eps=1e-05, momentum=0.1, affine=True, track_running_stats=True)\n",
       "      )\n",
       "    )\n",
       "    (1): BasicBlock(\n",
       "      (conv1): Conv2d(256, 256, kernel_size=(3, 3), stride=(1, 1), padding=(1, 1), bias=False)\n",
       "      (bn1): TCondNorm(planes=256, minl=1.0, epsilon=1e-05)\n",
       "      (conv2): Conv2d(256, 256, kernel_size=(3, 3), stride=(1, 1), padding=(1, 1), bias=False)\n",
       "      (bn2): TCondNorm(planes=256, minl=1.0, epsilon=1e-05)\n",
       "      (shortcut): Sequential()\n",
       "    )\n",
       "  )\n",
       "  (layer4): Sequential(\n",
       "    (0): BasicBlock(\n",
       "      (conv1): Conv2d(256, 512, kernel_size=(3, 3), stride=(2, 2), padding=(1, 1), bias=False)\n",
       "      (bn1): TCondNorm(planes=512, minl=1.0, epsilon=1e-05)\n",
       "      (conv2): Conv2d(512, 512, kernel_size=(3, 3), stride=(1, 1), padding=(1, 1), bias=False)\n",
       "      (bn2): TCondNorm(planes=512, minl=1.0, epsilon=1e-05)\n",
       "      (shortcut): Sequential(\n",
       "        (0): Conv2d(256, 512, kernel_size=(1, 1), stride=(2, 2), bias=False)\n",
       "        (1): BatchNorm2d(512, eps=1e-05, momentum=0.1, affine=True, track_running_stats=True)\n",
       "      )\n",
       "    )\n",
       "    (1): BasicBlock(\n",
       "      (conv1): Conv2d(512, 512, kernel_size=(3, 3), stride=(1, 1), padding=(1, 1), bias=False)\n",
       "      (bn1): TCondNorm(planes=512, minl=1.0, epsilon=1e-05)\n",
       "      (conv2): Conv2d(512, 512, kernel_size=(3, 3), stride=(1, 1), padding=(1, 1), bias=False)\n",
       "      (bn2): TCondNorm(planes=512, minl=1.0, epsilon=1e-05)\n",
       "      (shortcut): Sequential()\n",
       "    )\n",
       "  )\n",
       "  (gap): AdaptiveAvgPool2d(output_size=1)\n",
       "  (linear): Linear(in_features=512, out_features=10, bias=True)\n",
       ")"
      ]
     },
     "execution_count": 5,
     "metadata": {},
     "output_type": "execute_result"
    }
   ],
   "source": [
    "from sim_model.res_new_fix_inplace import ResNet18\n",
    "from bcn import TCondNorm\n",
    "\n",
    "model = ResNet18(normlayer=TCondNorm).to(device)  # BN default\n",
    "print('Number of Parameters: ', sum([p.numel() for p in model.parameters()]))\n",
    "print('Training Parameters: ', sum([p.numel() for p in model.parameters() if p.requires_grad]))\n",
    "model"
   ]
  },
  {
   "cell_type": "code",
   "execution_count": 6,
   "metadata": {
    "ExecuteTime": {
     "end_time": "2020-01-10T04:25:07.926146Z",
     "start_time": "2020-01-10T04:08:23.533894Z"
    },
    "deletable": false,
    "editable": false,
    "run_control": {
     "frozen": true
    }
   },
   "outputs": [
    {
     "name": "stdout",
     "output_type": "stream",
     "text": [
      "Train Epoch: 1 [29952/60000 (50%)]\tAvgloss: 0.186916\tTime: 124.9\n",
      "Train Epoch: 1 [59904/60000 (100%)]\tAvgloss: 0.082959\tTime: 250.0\n",
      "                                                   \n",
      "Test set: Avg loss: 0.0492 |  Accuracy: 98.47 | \n",
      "\n",
      "Train Epoch: 2 [29952/60000 (50%)]\tAvgloss: 0.066446\tTime: 125.2\n",
      "Train Epoch: 2 [59904/60000 (100%)]\tAvgloss: 0.073373\tTime: 249.4\n",
      "                                                   \n",
      "Test set: Avg loss: 0.0415 |  Accuracy: 98.66 | \n",
      "\n",
      "Train Epoch: 3 [29952/60000 (50%)]\tAvgloss: 0.058973\tTime: 124.6\n",
      "Train Epoch: 3 [59904/60000 (100%)]\tAvgloss: 0.060851\tTime: 248.5\n",
      "                                                   \n",
      "Test set: Avg loss: 0.0377 |  Accuracy: 98.91 | \n",
      "\n",
      "Train Epoch: 4 [29952/60000 (50%)]\tAvgloss: 0.053337\tTime: 124.3\n",
      "Train Epoch: 4 [59904/60000 (100%)]\tAvgloss: 0.050309\tTime: 247.8\n",
      "                                                   \n",
      "Test set: Avg loss: 0.0312 |  Accuracy: 99.13 | \n",
      "\n"
     ]
    }
   ],
   "source": [
    "sdir = './runs/tmp_time_test'\n",
    "optimizer = optim.Adam(model.parameters(), lr=0.001, weight_decay=1e-4)\n",
    "tloss, tacc = Pipeline(sdir, model, optimizer, 'res18_bcn_ext1', 4)"
   ]
  },
  {
   "cell_type": "code",
   "execution_count": 6,
   "metadata": {
    "ExecuteTime": {
     "end_time": "2020-01-10T06:34:56.812258Z",
     "start_time": "2020-01-10T05:12:11.537054Z"
    },
    "scrolled": true
   },
   "outputs": [
    {
     "name": "stdout",
     "output_type": "stream",
     "text": [
      "Train Epoch: 1 [29952/60000 (50%)]\tAvgloss: 0.190281\tTime: 124.6\n",
      "Train Epoch: 1 [59904/60000 (100%)]\tAvgloss: 0.085715\tTime: 248.6\n",
      "                                                   \n",
      "Test set: Avg loss: 0.0586 |  Accuracy: 98.23 | \n",
      "\n",
      "Train Epoch: 2 [29952/60000 (50%)]\tAvgloss: 0.077424\tTime: 125.7\n",
      "Train Epoch: 2 [59904/60000 (100%)]\tAvgloss: 0.065668\tTime: 249.8\n",
      "                                                   \n",
      "Test set: Avg loss: 0.0464 |  Accuracy: 98.59 | \n",
      "\n",
      "Train Epoch: 3 [29952/60000 (50%)]\tAvgloss: 0.062373\tTime: 124.5\n",
      "Train Epoch: 3 [59904/60000 (100%)]\tAvgloss: 0.056342\tTime: 248.5\n",
      "                                                   \n",
      "Test set: Avg loss: 0.0622 |  Accuracy: 98.32 | \n",
      "\n",
      "Train Epoch: 4 [29952/60000 (50%)]\tAvgloss: 0.052414\tTime: 124.3\n",
      "Train Epoch: 4 [59904/60000 (100%)]\tAvgloss: 0.055329\tTime: 248.0\n",
      "                                                   \n",
      "Test set: Avg loss: 0.0327 |  Accuracy: 99.00 | \n",
      "\n",
      "Train Epoch: 5 [29952/60000 (50%)]\tAvgloss: 0.046769\tTime: 123.7\n",
      "Train Epoch: 5 [59904/60000 (100%)]\tAvgloss: 0.047731\tTime: 246.9\n",
      "                                                   \n",
      "Test set: Avg loss: 0.0475 |  Accuracy: 98.52 | \n",
      "\n",
      "Train Epoch: 6 [29952/60000 (50%)]\tAvgloss: 0.038356\tTime: 123.2\n",
      "Train Epoch: 6 [59904/60000 (100%)]\tAvgloss: 0.041993\tTime: 245.8\n",
      "                                                   \n",
      "Test set: Avg loss: 0.0261 |  Accuracy: 99.31 | \n",
      "\n",
      "Train Epoch: 7 [29952/60000 (50%)]\tAvgloss: 0.036516\tTime: 123.1\n",
      "Train Epoch: 7 [59904/60000 (100%)]\tAvgloss: 0.037757\tTime: 245.6\n",
      "                                                   \n",
      "Test set: Avg loss: 0.0270 |  Accuracy: 99.19 | \n",
      "\n",
      "Train Epoch: 8 [29952/60000 (50%)]\tAvgloss: 0.029591\tTime: 123.1\n",
      "Train Epoch: 8 [59904/60000 (100%)]\tAvgloss: 0.034351\tTime: 245.4\n",
      "                                                   \n",
      "Test set: Avg loss: 0.0331 |  Accuracy: 99.07 | \n",
      "\n",
      "Train Epoch: 9 [29952/60000 (50%)]\tAvgloss: 0.027994\tTime: 122.6\n",
      "Train Epoch: 9 [59904/60000 (100%)]\tAvgloss: 0.030693\tTime: 246.7\n",
      "                                                   \n",
      "Test set: Avg loss: 0.0255 |  Accuracy: 99.16 | \n",
      "\n",
      "Train Epoch: 10 [29952/60000 (50%)]\tAvgloss: 0.024309\tTime: 122.8\n",
      "Train Epoch: 10 [59904/60000 (100%)]\tAvgloss: 0.029472\tTime: 244.9\n",
      "                                                   \n",
      "Test set: Avg loss: 0.0214 |  Accuracy: 99.28 | \n",
      "\n",
      "Train Epoch: 11 [29952/60000 (50%)]\tAvgloss: 0.024066\tTime: 122.6\n",
      "Train Epoch: 11 [59904/60000 (100%)]\tAvgloss: 0.025243\tTime: 245.8\n",
      "                                                   \n",
      "Test set: Avg loss: 0.0201 |  Accuracy: 99.36 | \n",
      "\n",
      "Train Epoch: 12 [29952/60000 (50%)]\tAvgloss: 0.021831\tTime: 122.6\n",
      "Train Epoch: 12 [59904/60000 (100%)]\tAvgloss: 0.025500\tTime: 244.7\n",
      "                                                   \n",
      "Test set: Avg loss: 0.0221 |  Accuracy: 99.41 | \n",
      "\n",
      "Train Epoch: 13 [29952/60000 (50%)]\tAvgloss: 0.018296\tTime: 122.7\n",
      "Train Epoch: 13 [59904/60000 (100%)]\tAvgloss: 0.022727\tTime: 244.9\n",
      "                                                   \n",
      "Test set: Avg loss: 0.0221 |  Accuracy: 99.35 | \n",
      "\n",
      "Train Epoch: 14 [29952/60000 (50%)]\tAvgloss: 0.019542\tTime: 122.7\n",
      "Train Epoch: 14 [59904/60000 (100%)]\tAvgloss: 0.022150\tTime: 245.1\n",
      "                                                   \n",
      "Test set: Avg loss: 0.0189 |  Accuracy: 99.39 | \n",
      "\n",
      "Train Epoch: 15 [29952/60000 (50%)]\tAvgloss: 0.017455\tTime: 123.0\n",
      "Train Epoch: 15 [59904/60000 (100%)]\tAvgloss: 0.022451\tTime: 245.4\n",
      "                                                   \n",
      "Test set: Avg loss: 0.0223 |  Accuracy: 99.30 | \n",
      "\n",
      "Train Epoch: 16 [29952/60000 (50%)]\tAvgloss: 0.009698\tTime: 122.9\n",
      "Train Epoch: 16 [59904/60000 (100%)]\tAvgloss: 0.008734\tTime: 245.1\n",
      "                                                   \n",
      "Test set: Avg loss: 0.0154 |  Accuracy: 99.54 | \n",
      "\n",
      "Train Epoch: 17 [29952/60000 (50%)]\tAvgloss: 0.005637\tTime: 122.7\n",
      "Train Epoch: 17 [59904/60000 (100%)]\tAvgloss: 0.006507\tTime: 245.0\n",
      "                                                   \n",
      "Test set: Avg loss: 0.0144 |  Accuracy: 99.60 | \n",
      "\n",
      "Train Epoch: 18 [29952/60000 (50%)]\tAvgloss: 0.005345\tTime: 122.7\n",
      "Train Epoch: 18 [59904/60000 (100%)]\tAvgloss: 0.005208\tTime: 245.1\n",
      "                                                   \n",
      "Test set: Avg loss: 0.0153 |  Accuracy: 99.53 | \n",
      "\n",
      "Train Epoch: 19 [29952/60000 (50%)]\tAvgloss: 0.005183\tTime: 122.8\n",
      "Train Epoch: 19 [59904/60000 (100%)]\tAvgloss: 0.004860\tTime: 245.2\n",
      "                                                   \n",
      "Test set: Avg loss: 0.0141 |  Accuracy: 99.54 | \n",
      "\n",
      "Train Epoch: 20 [29952/60000 (50%)]\tAvgloss: 0.004424\tTime: 122.5\n",
      "Train Epoch: 20 [59904/60000 (100%)]\tAvgloss: 0.004805\tTime: 245.2\n",
      "                                                   \n",
      "Test set: Avg loss: 0.0155 |  Accuracy: 99.51 | \n",
      "\n"
     ]
    }
   ],
   "source": [
    "# before: 253-256\n",
    "sdir = './runs/tmp_time_test'\n",
    "optimizer = optim.Adam(model.parameters(), lr=0.001, weight_decay=1e-4)\n",
    "tloss, tacc = Pipeline(sdir, model, optimizer, 'res18_bcn_ext1', 20)"
   ]
  },
  {
   "cell_type": "code",
   "execution_count": null,
   "metadata": {
    "collapsed": true
   },
   "outputs": [],
   "source": []
  },
  {
   "cell_type": "code",
   "execution_count": null,
   "metadata": {
    "collapsed": true
   },
   "outputs": [],
   "source": []
  },
  {
   "cell_type": "markdown",
   "metadata": {},
   "source": [
    "# more layer"
   ]
  },
  {
   "cell_type": "code",
   "execution_count": 5,
   "metadata": {
    "ExecuteTime": {
     "end_time": "2020-01-09T09:03:10.200637Z",
     "start_time": "2020-01-09T09:03:06.986906Z"
    },
    "scrolled": true
   },
   "outputs": [
    {
     "name": "stdout",
     "output_type": "stream",
     "text": [
      "Number of Parameters:  21263946\n",
      "Training Parameters:  21263946\n"
     ]
    },
    {
     "data": {
      "text/plain": [
       "ResNet(\n",
       "  (conv1): Conv2d(1, 64, kernel_size=(3, 3), stride=(1, 1), padding=(1, 1), bias=False)\n",
       "  (layer1): Sequential(\n",
       "    (0): BasicBlock(\n",
       "      (conv1): Conv2d(64, 64, kernel_size=(3, 3), stride=(1, 1), padding=(1, 1), bias=False)\n",
       "      (conv2): Conv2d(64, 64, kernel_size=(3, 3), stride=(1, 1), padding=(1, 1), bias=False)\n",
       "      (shortcut): Sequential()\n",
       "    )\n",
       "    (1): BasicBlock(\n",
       "      (conv1): Conv2d(64, 64, kernel_size=(3, 3), stride=(1, 1), padding=(1, 1), bias=False)\n",
       "      (conv2): Conv2d(64, 64, kernel_size=(3, 3), stride=(1, 1), padding=(1, 1), bias=False)\n",
       "      (shortcut): Sequential()\n",
       "    )\n",
       "    (2): BasicBlock(\n",
       "      (conv1): Conv2d(64, 64, kernel_size=(3, 3), stride=(1, 1), padding=(1, 1), bias=False)\n",
       "      (conv2): Conv2d(64, 64, kernel_size=(3, 3), stride=(1, 1), padding=(1, 1), bias=False)\n",
       "      (shortcut): Sequential()\n",
       "    )\n",
       "  )\n",
       "  (layer2): Sequential(\n",
       "    (0): BasicBlock(\n",
       "      (conv1): Conv2d(64, 128, kernel_size=(3, 3), stride=(2, 2), padding=(1, 1), bias=False)\n",
       "      (conv2): Conv2d(128, 128, kernel_size=(3, 3), stride=(1, 1), padding=(1, 1), bias=False)\n",
       "      (shortcut): Sequential(\n",
       "        (0): Conv2d(64, 128, kernel_size=(1, 1), stride=(2, 2), bias=False)\n",
       "      )\n",
       "    )\n",
       "    (1): BasicBlock(\n",
       "      (conv1): Conv2d(128, 128, kernel_size=(3, 3), stride=(1, 1), padding=(1, 1), bias=False)\n",
       "      (conv2): Conv2d(128, 128, kernel_size=(3, 3), stride=(1, 1), padding=(1, 1), bias=False)\n",
       "      (shortcut): Sequential()\n",
       "    )\n",
       "    (2): BasicBlock(\n",
       "      (conv1): Conv2d(128, 128, kernel_size=(3, 3), stride=(1, 1), padding=(1, 1), bias=False)\n",
       "      (conv2): Conv2d(128, 128, kernel_size=(3, 3), stride=(1, 1), padding=(1, 1), bias=False)\n",
       "      (shortcut): Sequential()\n",
       "    )\n",
       "    (3): BasicBlock(\n",
       "      (conv1): Conv2d(128, 128, kernel_size=(3, 3), stride=(1, 1), padding=(1, 1), bias=False)\n",
       "      (conv2): Conv2d(128, 128, kernel_size=(3, 3), stride=(1, 1), padding=(1, 1), bias=False)\n",
       "      (shortcut): Sequential()\n",
       "    )\n",
       "  )\n",
       "  (layer3): Sequential(\n",
       "    (0): BasicBlock(\n",
       "      (conv1): Conv2d(128, 256, kernel_size=(3, 3), stride=(2, 2), padding=(1, 1), bias=False)\n",
       "      (conv2): Conv2d(256, 256, kernel_size=(3, 3), stride=(1, 1), padding=(1, 1), bias=False)\n",
       "      (shortcut): Sequential(\n",
       "        (0): Conv2d(128, 256, kernel_size=(1, 1), stride=(2, 2), bias=False)\n",
       "      )\n",
       "    )\n",
       "    (1): BasicBlock(\n",
       "      (conv1): Conv2d(256, 256, kernel_size=(3, 3), stride=(1, 1), padding=(1, 1), bias=False)\n",
       "      (conv2): Conv2d(256, 256, kernel_size=(3, 3), stride=(1, 1), padding=(1, 1), bias=False)\n",
       "      (shortcut): Sequential()\n",
       "    )\n",
       "    (2): BasicBlock(\n",
       "      (conv1): Conv2d(256, 256, kernel_size=(3, 3), stride=(1, 1), padding=(1, 1), bias=False)\n",
       "      (conv2): Conv2d(256, 256, kernel_size=(3, 3), stride=(1, 1), padding=(1, 1), bias=False)\n",
       "      (shortcut): Sequential()\n",
       "    )\n",
       "    (3): BasicBlock(\n",
       "      (conv1): Conv2d(256, 256, kernel_size=(3, 3), stride=(1, 1), padding=(1, 1), bias=False)\n",
       "      (conv2): Conv2d(256, 256, kernel_size=(3, 3), stride=(1, 1), padding=(1, 1), bias=False)\n",
       "      (shortcut): Sequential()\n",
       "    )\n",
       "    (4): BasicBlock(\n",
       "      (conv1): Conv2d(256, 256, kernel_size=(3, 3), stride=(1, 1), padding=(1, 1), bias=False)\n",
       "      (conv2): Conv2d(256, 256, kernel_size=(3, 3), stride=(1, 1), padding=(1, 1), bias=False)\n",
       "      (shortcut): Sequential()\n",
       "    )\n",
       "    (5): BasicBlock(\n",
       "      (conv1): Conv2d(256, 256, kernel_size=(3, 3), stride=(1, 1), padding=(1, 1), bias=False)\n",
       "      (conv2): Conv2d(256, 256, kernel_size=(3, 3), stride=(1, 1), padding=(1, 1), bias=False)\n",
       "      (shortcut): Sequential()\n",
       "    )\n",
       "  )\n",
       "  (layer4): Sequential(\n",
       "    (0): BasicBlock(\n",
       "      (conv1): Conv2d(256, 512, kernel_size=(3, 3), stride=(2, 2), padding=(1, 1), bias=False)\n",
       "      (conv2): Conv2d(512, 512, kernel_size=(3, 3), stride=(1, 1), padding=(1, 1), bias=False)\n",
       "      (shortcut): Sequential(\n",
       "        (0): Conv2d(256, 512, kernel_size=(1, 1), stride=(2, 2), bias=False)\n",
       "      )\n",
       "    )\n",
       "    (1): BasicBlock(\n",
       "      (conv1): Conv2d(512, 512, kernel_size=(3, 3), stride=(1, 1), padding=(1, 1), bias=False)\n",
       "      (conv2): Conv2d(512, 512, kernel_size=(3, 3), stride=(1, 1), padding=(1, 1), bias=False)\n",
       "      (shortcut): Sequential()\n",
       "    )\n",
       "    (2): BasicBlock(\n",
       "      (conv1): Conv2d(512, 512, kernel_size=(3, 3), stride=(1, 1), padding=(1, 1), bias=False)\n",
       "      (conv2): Conv2d(512, 512, kernel_size=(3, 3), stride=(1, 1), padding=(1, 1), bias=False)\n",
       "      (shortcut): Sequential()\n",
       "    )\n",
       "  )\n",
       "  (gap): AdaptiveAvgPool2d(output_size=1)\n",
       "  (linear): Linear(in_features=512, out_features=10, bias=True)\n",
       ")"
      ]
     },
     "execution_count": 5,
     "metadata": {},
     "output_type": "execute_result"
    }
   ],
   "source": [
    "# resnet34\n",
    "from sim_model.res_free import ResNet34\n",
    "from bcn import TCondNorm\n",
    "\n",
    "model = ResNet34().to(device)\n",
    "print('Number of Parameters: ', sum([p.numel() for p in model.parameters()]))\n",
    "print('Training Parameters: ', sum([p.numel() for p in model.parameters() if p.requires_grad]))\n",
    "model"
   ]
  },
  {
   "cell_type": "code",
   "execution_count": null,
   "metadata": {
    "ExecuteTime": {
     "start_time": "2020-01-09T09:03:29.562Z"
    }
   },
   "outputs": [
    {
     "name": "stdout",
     "output_type": "stream",
     "text": [
      "Train Epoch: 1 [29952/60000 (50%)]\tAvgloss: 0.825230\tTime: 172.4\n",
      "Train Epoch: 1 [59904/60000 (100%)]\tAvgloss: 0.130399\tTime: 344.3\n",
      "                                                   \n",
      "Test set: Avg loss: 0.0564 |  Accuracy: 98.56 | \n",
      "\n",
      "Train Epoch: 2 [29952/60000 (50%)]\tAvgloss: 0.095351\tTime: 172.9\n",
      "Train Epoch: 2 [59904/60000 (100%)]\tAvgloss: 0.086182\tTime: 345.0\n",
      "                                                   \n",
      "Test set: Avg loss: 0.0514 |  Accuracy: 98.72 | \n",
      "\n",
      "step: 0010/0938 loss: 0.0206 |\r"
     ]
    }
   ],
   "source": [
    "sdir = './runs/tmp_time_test'\n",
    "optimizer = optim.Adam(model.parameters(), lr=0.001, weight_decay=1e-4)\n",
    "tloss, tacc = Pipeline(sdir, model, optimizer, 'res34_pure', 45)"
   ]
  },
  {
   "cell_type": "code",
   "execution_count": null,
   "metadata": {
    "collapsed": true
   },
   "outputs": [],
   "source": []
  },
  {
   "cell_type": "code",
   "execution_count": null,
   "metadata": {
    "ExecuteTime": {
     "start_time": "2020-01-09T09:15:31.256Z"
    }
   },
   "outputs": [
    {
     "name": "stdout",
     "output_type": "stream",
     "text": [
      "Number of Parameters:  21280842\n",
      "ResNet(\n",
      "  (conv1): Conv2d(1, 64, kernel_size=(3, 3), stride=(1, 1), padding=(1, 1), bias=False)\n",
      "  (layer1): Sequential(\n",
      "    (0): BasicBlock(\n",
      "      (conv1): Conv2d(64, 64, kernel_size=(3, 3), stride=(1, 1), padding=(1, 1), bias=False)\n",
      "      (bn1): BatchNorm2d(64, eps=1e-05, momentum=0.1, affine=True, track_running_stats=True)\n",
      "      (conv2): Conv2d(64, 64, kernel_size=(3, 3), stride=(1, 1), padding=(1, 1), bias=False)\n",
      "      (bn2): BatchNorm2d(64, eps=1e-05, momentum=0.1, affine=True, track_running_stats=True)\n",
      "      (shortcut): Sequential()\n",
      "    )\n",
      "    (1): BasicBlock(\n",
      "      (conv1): Conv2d(64, 64, kernel_size=(3, 3), stride=(1, 1), padding=(1, 1), bias=False)\n",
      "      (bn1): BatchNorm2d(64, eps=1e-05, momentum=0.1, affine=True, track_running_stats=True)\n",
      "      (conv2): Conv2d(64, 64, kernel_size=(3, 3), stride=(1, 1), padding=(1, 1), bias=False)\n",
      "      (bn2): BatchNorm2d(64, eps=1e-05, momentum=0.1, affine=True, track_running_stats=True)\n",
      "      (shortcut): Sequential()\n",
      "    )\n",
      "    (2): BasicBlock(\n",
      "      (conv1): Conv2d(64, 64, kernel_size=(3, 3), stride=(1, 1), padding=(1, 1), bias=False)\n",
      "      (bn1): BatchNorm2d(64, eps=1e-05, momentum=0.1, affine=True, track_running_stats=True)\n",
      "      (conv2): Conv2d(64, 64, kernel_size=(3, 3), stride=(1, 1), padding=(1, 1), bias=False)\n",
      "      (bn2): BatchNorm2d(64, eps=1e-05, momentum=0.1, affine=True, track_running_stats=True)\n",
      "      (shortcut): Sequential()\n",
      "    )\n",
      "  )\n",
      "  (layer2): Sequential(\n",
      "    (0): BasicBlock(\n",
      "      (conv1): Conv2d(64, 128, kernel_size=(3, 3), stride=(2, 2), padding=(1, 1), bias=False)\n",
      "      (bn1): BatchNorm2d(128, eps=1e-05, momentum=0.1, affine=True, track_running_stats=True)\n",
      "      (conv2): Conv2d(128, 128, kernel_size=(3, 3), stride=(1, 1), padding=(1, 1), bias=False)\n",
      "      (bn2): BatchNorm2d(128, eps=1e-05, momentum=0.1, affine=True, track_running_stats=True)\n",
      "      (shortcut): Sequential(\n",
      "        (0): Conv2d(64, 128, kernel_size=(1, 1), stride=(2, 2), bias=False)\n",
      "        (1): BatchNorm2d(128, eps=1e-05, momentum=0.1, affine=True, track_running_stats=True)\n",
      "      )\n",
      "    )\n",
      "    (1): BasicBlock(\n",
      "      (conv1): Conv2d(128, 128, kernel_size=(3, 3), stride=(1, 1), padding=(1, 1), bias=False)\n",
      "      (bn1): BatchNorm2d(128, eps=1e-05, momentum=0.1, affine=True, track_running_stats=True)\n",
      "      (conv2): Conv2d(128, 128, kernel_size=(3, 3), stride=(1, 1), padding=(1, 1), bias=False)\n",
      "      (bn2): BatchNorm2d(128, eps=1e-05, momentum=0.1, affine=True, track_running_stats=True)\n",
      "      (shortcut): Sequential()\n",
      "    )\n",
      "    (2): BasicBlock(\n",
      "      (conv1): Conv2d(128, 128, kernel_size=(3, 3), stride=(1, 1), padding=(1, 1), bias=False)\n",
      "      (bn1): BatchNorm2d(128, eps=1e-05, momentum=0.1, affine=True, track_running_stats=True)\n",
      "      (conv2): Conv2d(128, 128, kernel_size=(3, 3), stride=(1, 1), padding=(1, 1), bias=False)\n",
      "      (bn2): BatchNorm2d(128, eps=1e-05, momentum=0.1, affine=True, track_running_stats=True)\n",
      "      (shortcut): Sequential()\n",
      "    )\n",
      "    (3): BasicBlock(\n",
      "      (conv1): Conv2d(128, 128, kernel_size=(3, 3), stride=(1, 1), padding=(1, 1), bias=False)\n",
      "      (bn1): BatchNorm2d(128, eps=1e-05, momentum=0.1, affine=True, track_running_stats=True)\n",
      "      (conv2): Conv2d(128, 128, kernel_size=(3, 3), stride=(1, 1), padding=(1, 1), bias=False)\n",
      "      (bn2): BatchNorm2d(128, eps=1e-05, momentum=0.1, affine=True, track_running_stats=True)\n",
      "      (shortcut): Sequential()\n",
      "    )\n",
      "  )\n",
      "  (layer3): Sequential(\n",
      "    (0): BasicBlock(\n",
      "      (conv1): Conv2d(128, 256, kernel_size=(3, 3), stride=(2, 2), padding=(1, 1), bias=False)\n",
      "      (bn1): BatchNorm2d(256, eps=1e-05, momentum=0.1, affine=True, track_running_stats=True)\n",
      "      (conv2): Conv2d(256, 256, kernel_size=(3, 3), stride=(1, 1), padding=(1, 1), bias=False)\n",
      "      (bn2): BatchNorm2d(256, eps=1e-05, momentum=0.1, affine=True, track_running_stats=True)\n",
      "      (shortcut): Sequential(\n",
      "        (0): Conv2d(128, 256, kernel_size=(1, 1), stride=(2, 2), bias=False)\n",
      "        (1): BatchNorm2d(256, eps=1e-05, momentum=0.1, affine=True, track_running_stats=True)\n",
      "      )\n",
      "    )\n",
      "    (1): BasicBlock(\n",
      "      (conv1): Conv2d(256, 256, kernel_size=(3, 3), stride=(1, 1), padding=(1, 1), bias=False)\n",
      "      (bn1): BatchNorm2d(256, eps=1e-05, momentum=0.1, affine=True, track_running_stats=True)\n",
      "      (conv2): Conv2d(256, 256, kernel_size=(3, 3), stride=(1, 1), padding=(1, 1), bias=False)\n",
      "      (bn2): BatchNorm2d(256, eps=1e-05, momentum=0.1, affine=True, track_running_stats=True)\n",
      "      (shortcut): Sequential()\n",
      "    )\n",
      "    (2): BasicBlock(\n",
      "      (conv1): Conv2d(256, 256, kernel_size=(3, 3), stride=(1, 1), padding=(1, 1), bias=False)\n",
      "      (bn1): BatchNorm2d(256, eps=1e-05, momentum=0.1, affine=True, track_running_stats=True)\n",
      "      (conv2): Conv2d(256, 256, kernel_size=(3, 3), stride=(1, 1), padding=(1, 1), bias=False)\n",
      "      (bn2): BatchNorm2d(256, eps=1e-05, momentum=0.1, affine=True, track_running_stats=True)\n",
      "      (shortcut): Sequential()\n",
      "    )\n",
      "    (3): BasicBlock(\n",
      "      (conv1): Conv2d(256, 256, kernel_size=(3, 3), stride=(1, 1), padding=(1, 1), bias=False)\n",
      "      (bn1): BatchNorm2d(256, eps=1e-05, momentum=0.1, affine=True, track_running_stats=True)\n",
      "      (conv2): Conv2d(256, 256, kernel_size=(3, 3), stride=(1, 1), padding=(1, 1), bias=False)\n",
      "      (bn2): BatchNorm2d(256, eps=1e-05, momentum=0.1, affine=True, track_running_stats=True)\n",
      "      (shortcut): Sequential()\n",
      "    )\n",
      "    (4): BasicBlock(\n",
      "      (conv1): Conv2d(256, 256, kernel_size=(3, 3), stride=(1, 1), padding=(1, 1), bias=False)\n",
      "      (bn1): BatchNorm2d(256, eps=1e-05, momentum=0.1, affine=True, track_running_stats=True)\n",
      "      (conv2): Conv2d(256, 256, kernel_size=(3, 3), stride=(1, 1), padding=(1, 1), bias=False)\n",
      "      (bn2): BatchNorm2d(256, eps=1e-05, momentum=0.1, affine=True, track_running_stats=True)\n",
      "      (shortcut): Sequential()\n",
      "    )\n",
      "    (5): BasicBlock(\n",
      "      (conv1): Conv2d(256, 256, kernel_size=(3, 3), stride=(1, 1), padding=(1, 1), bias=False)\n",
      "      (bn1): BatchNorm2d(256, eps=1e-05, momentum=0.1, affine=True, track_running_stats=True)\n",
      "      (conv2): Conv2d(256, 256, kernel_size=(3, 3), stride=(1, 1), padding=(1, 1), bias=False)\n",
      "      (bn2): BatchNorm2d(256, eps=1e-05, momentum=0.1, affine=True, track_running_stats=True)\n",
      "      (shortcut): Sequential()\n",
      "    )\n",
      "  )\n",
      "  (layer4): Sequential(\n",
      "    (0): BasicBlock(\n",
      "      (conv1): Conv2d(256, 512, kernel_size=(3, 3), stride=(2, 2), padding=(1, 1), bias=False)\n",
      "      (bn1): BatchNorm2d(512, eps=1e-05, momentum=0.1, affine=True, track_running_stats=True)\n",
      "      (conv2): Conv2d(512, 512, kernel_size=(3, 3), stride=(1, 1), padding=(1, 1), bias=False)\n",
      "      (bn2): BatchNorm2d(512, eps=1e-05, momentum=0.1, affine=True, track_running_stats=True)\n",
      "      (shortcut): Sequential(\n",
      "        (0): Conv2d(256, 512, kernel_size=(1, 1), stride=(2, 2), bias=False)\n",
      "        (1): BatchNorm2d(512, eps=1e-05, momentum=0.1, affine=True, track_running_stats=True)\n",
      "      )\n",
      "    )\n",
      "    (1): BasicBlock(\n",
      "      (conv1): Conv2d(512, 512, kernel_size=(3, 3), stride=(1, 1), padding=(1, 1), bias=False)\n",
      "      (bn1): BatchNorm2d(512, eps=1e-05, momentum=0.1, affine=True, track_running_stats=True)\n",
      "      (conv2): Conv2d(512, 512, kernel_size=(3, 3), stride=(1, 1), padding=(1, 1), bias=False)\n",
      "      (bn2): BatchNorm2d(512, eps=1e-05, momentum=0.1, affine=True, track_running_stats=True)\n",
      "      (shortcut): Sequential()\n",
      "    )\n",
      "    (2): BasicBlock(\n",
      "      (conv1): Conv2d(512, 512, kernel_size=(3, 3), stride=(1, 1), padding=(1, 1), bias=False)\n",
      "      (bn1): BatchNorm2d(512, eps=1e-05, momentum=0.1, affine=True, track_running_stats=True)\n",
      "      (conv2): Conv2d(512, 512, kernel_size=(3, 3), stride=(1, 1), padding=(1, 1), bias=False)\n",
      "      (bn2): BatchNorm2d(512, eps=1e-05, momentum=0.1, affine=True, track_running_stats=True)\n",
      "      (shortcut): Sequential()\n",
      "    )\n",
      "  )\n",
      "  (gap): AdaptiveAvgPool2d(output_size=1)\n",
      "  (linear): Linear(in_features=512, out_features=10, bias=True)\n",
      ")\n",
      "Train Epoch: 1 [29952/60000 (50%)]\tAvgloss: 0.271553\tTime: 205.4\n",
      "Train Epoch: 1 [59904/60000 (100%)]\tAvgloss: 0.098123\tTime: 410.2\n",
      "                                                   \n",
      "Test set: Avg loss: 0.0402 |  Accuracy: 98.80 | \n",
      "\n",
      "Train Epoch: 2 [29952/60000 (50%)]\tAvgloss: 0.080981\tTime: 205.2\n",
      "Train Epoch: 2 [59904/60000 (100%)]\tAvgloss: 0.068772\tTime: 409.5\n"
     ]
    },
    {
     "name": "stdout",
     "output_type": "stream",
     "text": [
      "                                                   \n",
      "Test set: Avg loss: 0.0577 |  Accuracy: 98.25 | \n",
      "\n",
      "step: 0107/0938 loss: 0.0161 |\r"
     ]
    }
   ],
   "source": [
    "# bn\n",
    "from sim_model.res_new_fix_inplace import ResNet34\n",
    "from bcn import TCondNorm\n",
    "\n",
    "model = ResNet34().to(device)\n",
    "print('Number of Parameters: ', sum([p.numel() for p in model.parameters()]))\n",
    "print(model)\n",
    "sdir = './runs/tmp_time_test'\n",
    "optimizer = optim.Adam(model.parameters(), lr=0.001, weight_decay=1e-4)\n",
    "tloss, tacc = Pipeline(sdir, model, optimizer, 'res34_bn', 4)"
   ]
  },
  {
   "cell_type": "code",
   "execution_count": null,
   "metadata": {
    "collapsed": true
   },
   "outputs": [],
   "source": []
  },
  {
   "cell_type": "code",
   "execution_count": 5,
   "metadata": {
    "ExecuteTime": {
     "end_time": "2020-01-10T09:16:24.056208Z",
     "start_time": "2020-01-10T06:55:13.587438Z"
    }
   },
   "outputs": [
    {
     "name": "stdout",
     "output_type": "stream",
     "text": [
      "Number of Parameters:  21280842\n",
      "ResNet(\n",
      "  (conv1): Conv2d(1, 64, kernel_size=(3, 3), stride=(1, 1), padding=(1, 1), bias=False)\n",
      "  (layer1): Sequential(\n",
      "    (0): BasicBlock(\n",
      "      (conv1): Conv2d(64, 64, kernel_size=(3, 3), stride=(1, 1), padding=(1, 1), bias=False)\n",
      "      (bn1): TCondNorm(planes=64, minl=1.0, epsilon=1e-05)\n",
      "      (conv2): Conv2d(64, 64, kernel_size=(3, 3), stride=(1, 1), padding=(1, 1), bias=False)\n",
      "      (bn2): TCondNorm(planes=64, minl=1.0, epsilon=1e-05)\n",
      "      (shortcut): Sequential()\n",
      "    )\n",
      "    (1): BasicBlock(\n",
      "      (conv1): Conv2d(64, 64, kernel_size=(3, 3), stride=(1, 1), padding=(1, 1), bias=False)\n",
      "      (bn1): TCondNorm(planes=64, minl=1.0, epsilon=1e-05)\n",
      "      (conv2): Conv2d(64, 64, kernel_size=(3, 3), stride=(1, 1), padding=(1, 1), bias=False)\n",
      "      (bn2): TCondNorm(planes=64, minl=1.0, epsilon=1e-05)\n",
      "      (shortcut): Sequential()\n",
      "    )\n",
      "    (2): BasicBlock(\n",
      "      (conv1): Conv2d(64, 64, kernel_size=(3, 3), stride=(1, 1), padding=(1, 1), bias=False)\n",
      "      (bn1): TCondNorm(planes=64, minl=1.0, epsilon=1e-05)\n",
      "      (conv2): Conv2d(64, 64, kernel_size=(3, 3), stride=(1, 1), padding=(1, 1), bias=False)\n",
      "      (bn2): TCondNorm(planes=64, minl=1.0, epsilon=1e-05)\n",
      "      (shortcut): Sequential()\n",
      "    )\n",
      "  )\n",
      "  (layer2): Sequential(\n",
      "    (0): BasicBlock(\n",
      "      (conv1): Conv2d(64, 128, kernel_size=(3, 3), stride=(2, 2), padding=(1, 1), bias=False)\n",
      "      (bn1): TCondNorm(planes=128, minl=1.0, epsilon=1e-05)\n",
      "      (conv2): Conv2d(128, 128, kernel_size=(3, 3), stride=(1, 1), padding=(1, 1), bias=False)\n",
      "      (bn2): TCondNorm(planes=128, minl=1.0, epsilon=1e-05)\n",
      "      (shortcut): Sequential(\n",
      "        (0): Conv2d(64, 128, kernel_size=(1, 1), stride=(2, 2), bias=False)\n",
      "        (1): BatchNorm2d(128, eps=1e-05, momentum=0.1, affine=True, track_running_stats=True)\n",
      "      )\n",
      "    )\n",
      "    (1): BasicBlock(\n",
      "      (conv1): Conv2d(128, 128, kernel_size=(3, 3), stride=(1, 1), padding=(1, 1), bias=False)\n",
      "      (bn1): TCondNorm(planes=128, minl=1.0, epsilon=1e-05)\n",
      "      (conv2): Conv2d(128, 128, kernel_size=(3, 3), stride=(1, 1), padding=(1, 1), bias=False)\n",
      "      (bn2): TCondNorm(planes=128, minl=1.0, epsilon=1e-05)\n",
      "      (shortcut): Sequential()\n",
      "    )\n",
      "    (2): BasicBlock(\n",
      "      (conv1): Conv2d(128, 128, kernel_size=(3, 3), stride=(1, 1), padding=(1, 1), bias=False)\n",
      "      (bn1): TCondNorm(planes=128, minl=1.0, epsilon=1e-05)\n",
      "      (conv2): Conv2d(128, 128, kernel_size=(3, 3), stride=(1, 1), padding=(1, 1), bias=False)\n",
      "      (bn2): TCondNorm(planes=128, minl=1.0, epsilon=1e-05)\n",
      "      (shortcut): Sequential()\n",
      "    )\n",
      "    (3): BasicBlock(\n",
      "      (conv1): Conv2d(128, 128, kernel_size=(3, 3), stride=(1, 1), padding=(1, 1), bias=False)\n",
      "      (bn1): TCondNorm(planes=128, minl=1.0, epsilon=1e-05)\n",
      "      (conv2): Conv2d(128, 128, kernel_size=(3, 3), stride=(1, 1), padding=(1, 1), bias=False)\n",
      "      (bn2): TCondNorm(planes=128, minl=1.0, epsilon=1e-05)\n",
      "      (shortcut): Sequential()\n",
      "    )\n",
      "  )\n",
      "  (layer3): Sequential(\n",
      "    (0): BasicBlock(\n",
      "      (conv1): Conv2d(128, 256, kernel_size=(3, 3), stride=(2, 2), padding=(1, 1), bias=False)\n",
      "      (bn1): TCondNorm(planes=256, minl=1.0, epsilon=1e-05)\n",
      "      (conv2): Conv2d(256, 256, kernel_size=(3, 3), stride=(1, 1), padding=(1, 1), bias=False)\n",
      "      (bn2): TCondNorm(planes=256, minl=1.0, epsilon=1e-05)\n",
      "      (shortcut): Sequential(\n",
      "        (0): Conv2d(128, 256, kernel_size=(1, 1), stride=(2, 2), bias=False)\n",
      "        (1): BatchNorm2d(256, eps=1e-05, momentum=0.1, affine=True, track_running_stats=True)\n",
      "      )\n",
      "    )\n",
      "    (1): BasicBlock(\n",
      "      (conv1): Conv2d(256, 256, kernel_size=(3, 3), stride=(1, 1), padding=(1, 1), bias=False)\n",
      "      (bn1): TCondNorm(planes=256, minl=1.0, epsilon=1e-05)\n",
      "      (conv2): Conv2d(256, 256, kernel_size=(3, 3), stride=(1, 1), padding=(1, 1), bias=False)\n",
      "      (bn2): TCondNorm(planes=256, minl=1.0, epsilon=1e-05)\n",
      "      (shortcut): Sequential()\n",
      "    )\n",
      "    (2): BasicBlock(\n",
      "      (conv1): Conv2d(256, 256, kernel_size=(3, 3), stride=(1, 1), padding=(1, 1), bias=False)\n",
      "      (bn1): TCondNorm(planes=256, minl=1.0, epsilon=1e-05)\n",
      "      (conv2): Conv2d(256, 256, kernel_size=(3, 3), stride=(1, 1), padding=(1, 1), bias=False)\n",
      "      (bn2): TCondNorm(planes=256, minl=1.0, epsilon=1e-05)\n",
      "      (shortcut): Sequential()\n",
      "    )\n",
      "    (3): BasicBlock(\n",
      "      (conv1): Conv2d(256, 256, kernel_size=(3, 3), stride=(1, 1), padding=(1, 1), bias=False)\n",
      "      (bn1): TCondNorm(planes=256, minl=1.0, epsilon=1e-05)\n",
      "      (conv2): Conv2d(256, 256, kernel_size=(3, 3), stride=(1, 1), padding=(1, 1), bias=False)\n",
      "      (bn2): TCondNorm(planes=256, minl=1.0, epsilon=1e-05)\n",
      "      (shortcut): Sequential()\n",
      "    )\n",
      "    (4): BasicBlock(\n",
      "      (conv1): Conv2d(256, 256, kernel_size=(3, 3), stride=(1, 1), padding=(1, 1), bias=False)\n",
      "      (bn1): TCondNorm(planes=256, minl=1.0, epsilon=1e-05)\n",
      "      (conv2): Conv2d(256, 256, kernel_size=(3, 3), stride=(1, 1), padding=(1, 1), bias=False)\n",
      "      (bn2): TCondNorm(planes=256, minl=1.0, epsilon=1e-05)\n",
      "      (shortcut): Sequential()\n",
      "    )\n",
      "    (5): BasicBlock(\n",
      "      (conv1): Conv2d(256, 256, kernel_size=(3, 3), stride=(1, 1), padding=(1, 1), bias=False)\n",
      "      (bn1): TCondNorm(planes=256, minl=1.0, epsilon=1e-05)\n",
      "      (conv2): Conv2d(256, 256, kernel_size=(3, 3), stride=(1, 1), padding=(1, 1), bias=False)\n",
      "      (bn2): TCondNorm(planes=256, minl=1.0, epsilon=1e-05)\n",
      "      (shortcut): Sequential()\n",
      "    )\n",
      "  )\n",
      "  (layer4): Sequential(\n",
      "    (0): BasicBlock(\n",
      "      (conv1): Conv2d(256, 512, kernel_size=(3, 3), stride=(2, 2), padding=(1, 1), bias=False)\n",
      "      (bn1): TCondNorm(planes=512, minl=1.0, epsilon=1e-05)\n",
      "      (conv2): Conv2d(512, 512, kernel_size=(3, 3), stride=(1, 1), padding=(1, 1), bias=False)\n",
      "      (bn2): TCondNorm(planes=512, minl=1.0, epsilon=1e-05)\n",
      "      (shortcut): Sequential(\n",
      "        (0): Conv2d(256, 512, kernel_size=(1, 1), stride=(2, 2), bias=False)\n",
      "        (1): BatchNorm2d(512, eps=1e-05, momentum=0.1, affine=True, track_running_stats=True)\n",
      "      )\n",
      "    )\n",
      "    (1): BasicBlock(\n",
      "      (conv1): Conv2d(512, 512, kernel_size=(3, 3), stride=(1, 1), padding=(1, 1), bias=False)\n",
      "      (bn1): TCondNorm(planes=512, minl=1.0, epsilon=1e-05)\n",
      "      (conv2): Conv2d(512, 512, kernel_size=(3, 3), stride=(1, 1), padding=(1, 1), bias=False)\n",
      "      (bn2): TCondNorm(planes=512, minl=1.0, epsilon=1e-05)\n",
      "      (shortcut): Sequential()\n",
      "    )\n",
      "    (2): BasicBlock(\n",
      "      (conv1): Conv2d(512, 512, kernel_size=(3, 3), stride=(1, 1), padding=(1, 1), bias=False)\n",
      "      (bn1): TCondNorm(planes=512, minl=1.0, epsilon=1e-05)\n",
      "      (conv2): Conv2d(512, 512, kernel_size=(3, 3), stride=(1, 1), padding=(1, 1), bias=False)\n",
      "      (bn2): TCondNorm(planes=512, minl=1.0, epsilon=1e-05)\n",
      "      (shortcut): Sequential()\n",
      "    )\n",
      "  )\n",
      "  (gap): AdaptiveAvgPool2d(output_size=1)\n",
      "  (linear): Linear(in_features=512, out_features=10, bias=True)\n",
      ")\n",
      "Train Epoch: 1 [29952/60000 (50%)]\tAvgloss: 0.215607\tTime: 212.7\n",
      "Train Epoch: 1 [59904/60000 (100%)]\tAvgloss: 0.099693\tTime: 425.4\n",
      "                                                   \n",
      "Test set: Avg loss: 0.0598 |  Accuracy: 98.20 | \n",
      "\n",
      "Train Epoch: 2 [29952/60000 (50%)]\tAvgloss: 0.079148\tTime: 213.8\n",
      "Train Epoch: 2 [59904/60000 (100%)]\tAvgloss: 0.078671\tTime: 425.6\n",
      "                                                   \n",
      "Test set: Avg loss: 0.0622 |  Accuracy: 98.07 | \n",
      "\n",
      "Train Epoch: 3 [29952/60000 (50%)]\tAvgloss: 0.072317\tTime: 212.1\n",
      "Train Epoch: 3 [59904/60000 (100%)]\tAvgloss: 0.063515\tTime: 423.4\n",
      "                                                   \n",
      "Test set: Avg loss: 0.0422 |  Accuracy: 98.79 | \n",
      "\n",
      "Train Epoch: 4 [29952/60000 (50%)]\tAvgloss: 0.058343\tTime: 211.7\n",
      "Train Epoch: 4 [59904/60000 (100%)]\tAvgloss: 0.054803\tTime: 422.2\n",
      "                                                   \n",
      "Test set: Avg loss: 0.0427 |  Accuracy: 98.77 | \n",
      "\n",
      "Train Epoch: 5 [29952/60000 (50%)]\tAvgloss: 0.049029\tTime: 211.7\n",
      "Train Epoch: 5 [59904/60000 (100%)]\tAvgloss: 0.048675\tTime: 422.8\n",
      "                                                   \n",
      "Test set: Avg loss: 0.0306 |  Accuracy: 99.07 | \n",
      "\n",
      "Train Epoch: 6 [29952/60000 (50%)]\tAvgloss: 0.041242\tTime: 209.7\n",
      "Train Epoch: 6 [59904/60000 (100%)]\tAvgloss: 0.042320\tTime: 418.3\n",
      "                                                   \n",
      "Test set: Avg loss: 0.0257 |  Accuracy: 99.26 | \n",
      "\n",
      "Train Epoch: 7 [29952/60000 (50%)]\tAvgloss: 0.036874\tTime: 208.7\n"
     ]
    },
    {
     "name": "stdout",
     "output_type": "stream",
     "text": [
      "Train Epoch: 7 [59904/60000 (100%)]\tAvgloss: 0.037854\tTime: 416.5\n",
      "                                                   \n",
      "Test set: Avg loss: 0.0336 |  Accuracy: 98.96 | \n",
      "\n",
      "Train Epoch: 8 [29952/60000 (50%)]\tAvgloss: 0.031720\tTime: 207.7\n",
      "Train Epoch: 8 [59904/60000 (100%)]\tAvgloss: 0.032709\tTime: 414.3\n",
      "                                                   \n",
      "Test set: Avg loss: 0.0267 |  Accuracy: 99.15 | \n",
      "\n",
      "Train Epoch: 9 [29952/60000 (50%)]\tAvgloss: 0.027264\tTime: 208.0\n",
      "Train Epoch: 9 [59904/60000 (100%)]\tAvgloss: 0.032461\tTime: 415.5\n",
      "                                                   \n",
      "Test set: Avg loss: 0.0227 |  Accuracy: 99.25 | \n",
      "\n",
      "Train Epoch: 10 [29952/60000 (50%)]\tAvgloss: 0.026832\tTime: 208.2\n",
      "Train Epoch: 10 [59904/60000 (100%)]\tAvgloss: 0.028370\tTime: 415.8\n",
      "                                                   \n",
      "Test set: Avg loss: 0.0208 |  Accuracy: 99.40 | \n",
      "\n",
      "Train Epoch: 11 [29952/60000 (50%)]\tAvgloss: 0.022024\tTime: 212.7\n",
      "Train Epoch: 11 [59904/60000 (100%)]\tAvgloss: 0.027637\tTime: 422.2\n",
      "                                                   \n",
      "Test set: Avg loss: 0.0241 |  Accuracy: 99.30 | \n",
      "\n",
      "Train Epoch: 12 [29952/60000 (50%)]\tAvgloss: 0.021040\tTime: 210.8\n",
      "Train Epoch: 12 [59904/60000 (100%)]\tAvgloss: 0.024403\tTime: 419.2\n",
      "                                                   \n",
      "Test set: Avg loss: 0.0199 |  Accuracy: 99.39 | \n",
      "\n",
      "Train Epoch: 13 [29952/60000 (50%)]\tAvgloss: 0.021521\tTime: 209.0\n",
      "Train Epoch: 13 [59904/60000 (100%)]\tAvgloss: 0.023355\tTime: 417.7\n",
      "                                                   \n",
      "Test set: Avg loss: 0.0258 |  Accuracy: 99.17 | \n",
      "\n",
      "Train Epoch: 14 [29952/60000 (50%)]\tAvgloss: 0.018668\tTime: 209.6\n",
      "Train Epoch: 14 [59904/60000 (100%)]\tAvgloss: 0.020901\tTime: 418.3\n",
      "                                                   \n",
      "Test set: Avg loss: 0.0204 |  Accuracy: 99.35 | \n",
      "\n",
      "Train Epoch: 15 [29952/60000 (50%)]\tAvgloss: 0.016600\tTime: 209.3\n",
      "Train Epoch: 15 [59904/60000 (100%)]\tAvgloss: 0.022199\tTime: 418.0\n",
      "                                                   \n",
      "Test set: Avg loss: 0.0259 |  Accuracy: 99.31 | \n",
      "\n",
      "Train Epoch: 16 [29952/60000 (50%)]\tAvgloss: 0.010574\tTime: 209.2\n",
      "Train Epoch: 16 [59904/60000 (100%)]\tAvgloss: 0.008127\tTime: 419.3\n",
      "                                                   \n",
      "Test set: Avg loss: 0.0158 |  Accuracy: 99.47 | \n",
      "\n",
      "Train Epoch: 17 [29952/60000 (50%)]\tAvgloss: 0.006226\tTime: 208.9\n",
      "Train Epoch: 17 [59904/60000 (100%)]\tAvgloss: 0.006575\tTime: 417.7\n",
      "                                                   \n",
      "Test set: Avg loss: 0.0155 |  Accuracy: 99.47 | \n",
      "\n",
      "Train Epoch: 18 [29952/60000 (50%)]\tAvgloss: 0.005522\tTime: 209.3\n",
      "Train Epoch: 18 [59904/60000 (100%)]\tAvgloss: 0.005314\tTime: 421.1\n",
      "                                                   \n",
      "Test set: Avg loss: 0.0151 |  Accuracy: 99.45 | \n",
      "\n",
      "Train Epoch: 19 [29952/60000 (50%)]\tAvgloss: 0.005185\tTime: 210.7\n",
      "Train Epoch: 19 [59904/60000 (100%)]\tAvgloss: 0.005156\tTime: 420.6\n",
      "                                                   \n",
      "Test set: Avg loss: 0.0153 |  Accuracy: 99.48 | \n",
      "\n",
      "Train Epoch: 20 [29952/60000 (50%)]\tAvgloss: 0.004651\tTime: 211.2\n",
      "Train Epoch: 20 [59904/60000 (100%)]\tAvgloss: 0.004873\tTime: 422.7\n",
      "                                                   \n",
      "Test set: Avg loss: 0.0159 |  Accuracy: 99.46 | \n",
      "\n"
     ]
    }
   ],
   "source": [
    "# bcn\n",
    "from sim_model.res_new_fix_inplace import ResNet34\n",
    "from bcn import TCondNorm\n",
    "\n",
    "model = ResNet34(normlayer=TCondNorm).to(device)\n",
    "print('Number of Parameters: ', sum([p.numel() for p in model.parameters()]))\n",
    "print(model)\n",
    "sdir = './runs/tmp_time_test'\n",
    "optimizer = optim.Adam(model.parameters(), lr=0.001, weight_decay=1e-4)\n",
    "tloss, tacc = Pipeline(sdir, model, optimizer, 'res34_bcn_ext1', 20)"
   ]
  },
  {
   "cell_type": "code",
   "execution_count": null,
   "metadata": {
    "collapsed": true
   },
   "outputs": [],
   "source": []
  },
  {
   "cell_type": "code",
   "execution_count": null,
   "metadata": {
    "collapsed": true
   },
   "outputs": [],
   "source": []
  },
  {
   "cell_type": "code",
   "execution_count": 5,
   "metadata": {
    "ExecuteTime": {
     "end_time": "2020-01-09T10:42:28.707286Z",
     "start_time": "2020-01-09T10:00:59.129670Z"
    }
   },
   "outputs": [
    {
     "name": "stdout",
     "output_type": "stream",
     "text": [
      "Number of Parameters:  21265738\n",
      "ResNet(\n",
      "  (conv1): Conv2d(1, 64, kernel_size=(3, 3), stride=(1, 1), padding=(1, 1), bias=False)\n",
      "  (layer1): Sequential(\n",
      "    (0): BasicBlock(\n",
      "      (conv1): Conv2d(64, 64, kernel_size=(3, 3), stride=(1, 1), padding=(1, 1), bias=False)\n",
      "      (bn1): condNorm()\n",
      "      (conv2): Conv2d(64, 64, kernel_size=(3, 3), stride=(1, 1), padding=(1, 1), bias=False)\n",
      "      (bn2): condNorm()\n",
      "      (shortcut): Sequential()\n",
      "    )\n",
      "    (1): BasicBlock(\n",
      "      (conv1): Conv2d(64, 64, kernel_size=(3, 3), stride=(1, 1), padding=(1, 1), bias=False)\n",
      "      (bn1): condNorm()\n",
      "      (conv2): Conv2d(64, 64, kernel_size=(3, 3), stride=(1, 1), padding=(1, 1), bias=False)\n",
      "      (bn2): condNorm()\n",
      "      (shortcut): Sequential()\n",
      "    )\n",
      "    (2): BasicBlock(\n",
      "      (conv1): Conv2d(64, 64, kernel_size=(3, 3), stride=(1, 1), padding=(1, 1), bias=False)\n",
      "      (bn1): condNorm()\n",
      "      (conv2): Conv2d(64, 64, kernel_size=(3, 3), stride=(1, 1), padding=(1, 1), bias=False)\n",
      "      (bn2): condNorm()\n",
      "      (shortcut): Sequential()\n",
      "    )\n",
      "  )\n",
      "  (layer2): Sequential(\n",
      "    (0): BasicBlock(\n",
      "      (conv1): Conv2d(64, 128, kernel_size=(3, 3), stride=(2, 2), padding=(1, 1), bias=False)\n",
      "      (bn1): condNorm()\n",
      "      (conv2): Conv2d(128, 128, kernel_size=(3, 3), stride=(1, 1), padding=(1, 1), bias=False)\n",
      "      (bn2): condNorm()\n",
      "      (shortcut): Sequential(\n",
      "        (0): Conv2d(64, 128, kernel_size=(1, 1), stride=(2, 2), bias=False)\n",
      "        (1): BatchNorm2d(128, eps=1e-05, momentum=0.1, affine=True, track_running_stats=True)\n",
      "      )\n",
      "    )\n",
      "    (1): BasicBlock(\n",
      "      (conv1): Conv2d(128, 128, kernel_size=(3, 3), stride=(1, 1), padding=(1, 1), bias=False)\n",
      "      (bn1): condNorm()\n",
      "      (conv2): Conv2d(128, 128, kernel_size=(3, 3), stride=(1, 1), padding=(1, 1), bias=False)\n",
      "      (bn2): condNorm()\n",
      "      (shortcut): Sequential()\n",
      "    )\n",
      "    (2): BasicBlock(\n",
      "      (conv1): Conv2d(128, 128, kernel_size=(3, 3), stride=(1, 1), padding=(1, 1), bias=False)\n",
      "      (bn1): condNorm()\n",
      "      (conv2): Conv2d(128, 128, kernel_size=(3, 3), stride=(1, 1), padding=(1, 1), bias=False)\n",
      "      (bn2): condNorm()\n",
      "      (shortcut): Sequential()\n",
      "    )\n",
      "    (3): BasicBlock(\n",
      "      (conv1): Conv2d(128, 128, kernel_size=(3, 3), stride=(1, 1), padding=(1, 1), bias=False)\n",
      "      (bn1): condNorm()\n",
      "      (conv2): Conv2d(128, 128, kernel_size=(3, 3), stride=(1, 1), padding=(1, 1), bias=False)\n",
      "      (bn2): condNorm()\n",
      "      (shortcut): Sequential()\n",
      "    )\n",
      "  )\n",
      "  (layer3): Sequential(\n",
      "    (0): BasicBlock(\n",
      "      (conv1): Conv2d(128, 256, kernel_size=(3, 3), stride=(2, 2), padding=(1, 1), bias=False)\n",
      "      (bn1): condNorm()\n",
      "      (conv2): Conv2d(256, 256, kernel_size=(3, 3), stride=(1, 1), padding=(1, 1), bias=False)\n",
      "      (bn2): condNorm()\n",
      "      (shortcut): Sequential(\n",
      "        (0): Conv2d(128, 256, kernel_size=(1, 1), stride=(2, 2), bias=False)\n",
      "        (1): BatchNorm2d(256, eps=1e-05, momentum=0.1, affine=True, track_running_stats=True)\n",
      "      )\n",
      "    )\n",
      "    (1): BasicBlock(\n",
      "      (conv1): Conv2d(256, 256, kernel_size=(3, 3), stride=(1, 1), padding=(1, 1), bias=False)\n",
      "      (bn1): condNorm()\n",
      "      (conv2): Conv2d(256, 256, kernel_size=(3, 3), stride=(1, 1), padding=(1, 1), bias=False)\n",
      "      (bn2): condNorm()\n",
      "      (shortcut): Sequential()\n",
      "    )\n",
      "    (2): BasicBlock(\n",
      "      (conv1): Conv2d(256, 256, kernel_size=(3, 3), stride=(1, 1), padding=(1, 1), bias=False)\n",
      "      (bn1): condNorm()\n",
      "      (conv2): Conv2d(256, 256, kernel_size=(3, 3), stride=(1, 1), padding=(1, 1), bias=False)\n",
      "      (bn2): condNorm()\n",
      "      (shortcut): Sequential()\n",
      "    )\n",
      "    (3): BasicBlock(\n",
      "      (conv1): Conv2d(256, 256, kernel_size=(3, 3), stride=(1, 1), padding=(1, 1), bias=False)\n",
      "      (bn1): condNorm()\n",
      "      (conv2): Conv2d(256, 256, kernel_size=(3, 3), stride=(1, 1), padding=(1, 1), bias=False)\n",
      "      (bn2): condNorm()\n",
      "      (shortcut): Sequential()\n",
      "    )\n",
      "    (4): BasicBlock(\n",
      "      (conv1): Conv2d(256, 256, kernel_size=(3, 3), stride=(1, 1), padding=(1, 1), bias=False)\n",
      "      (bn1): condNorm()\n",
      "      (conv2): Conv2d(256, 256, kernel_size=(3, 3), stride=(1, 1), padding=(1, 1), bias=False)\n",
      "      (bn2): condNorm()\n",
      "      (shortcut): Sequential()\n",
      "    )\n",
      "    (5): BasicBlock(\n",
      "      (conv1): Conv2d(256, 256, kernel_size=(3, 3), stride=(1, 1), padding=(1, 1), bias=False)\n",
      "      (bn1): condNorm()\n",
      "      (conv2): Conv2d(256, 256, kernel_size=(3, 3), stride=(1, 1), padding=(1, 1), bias=False)\n",
      "      (bn2): condNorm()\n",
      "      (shortcut): Sequential()\n",
      "    )\n",
      "  )\n",
      "  (layer4): Sequential(\n",
      "    (0): BasicBlock(\n",
      "      (conv1): Conv2d(256, 512, kernel_size=(3, 3), stride=(2, 2), padding=(1, 1), bias=False)\n",
      "      (bn1): condNorm()\n",
      "      (conv2): Conv2d(512, 512, kernel_size=(3, 3), stride=(1, 1), padding=(1, 1), bias=False)\n",
      "      (bn2): condNorm()\n",
      "      (shortcut): Sequential(\n",
      "        (0): Conv2d(256, 512, kernel_size=(1, 1), stride=(2, 2), bias=False)\n",
      "        (1): BatchNorm2d(512, eps=1e-05, momentum=0.1, affine=True, track_running_stats=True)\n",
      "      )\n",
      "    )\n",
      "    (1): BasicBlock(\n",
      "      (conv1): Conv2d(512, 512, kernel_size=(3, 3), stride=(1, 1), padding=(1, 1), bias=False)\n",
      "      (bn1): condNorm()\n",
      "      (conv2): Conv2d(512, 512, kernel_size=(3, 3), stride=(1, 1), padding=(1, 1), bias=False)\n",
      "      (bn2): condNorm()\n",
      "      (shortcut): Sequential()\n",
      "    )\n",
      "    (2): BasicBlock(\n",
      "      (conv1): Conv2d(512, 512, kernel_size=(3, 3), stride=(1, 1), padding=(1, 1), bias=False)\n",
      "      (bn1): condNorm()\n",
      "      (conv2): Conv2d(512, 512, kernel_size=(3, 3), stride=(1, 1), padding=(1, 1), bias=False)\n",
      "      (bn2): condNorm()\n",
      "      (shortcut): Sequential()\n",
      "    )\n",
      "  )\n",
      "  (gap): AdaptiveAvgPool2d(output_size=1)\n",
      "  (linear): Linear(in_features=512, out_features=10, bias=True)\n",
      ")\n",
      "Train Epoch: 1 [29952/60000 (50%)]\tAvgloss: 0.206206\tTime: 309.3\n",
      "Train Epoch: 1 [59904/60000 (100%)]\tAvgloss: 0.107552\tTime: 617.6\n",
      "                                                   \n",
      "Test set: Avg loss: 0.0512 |  Accuracy: 98.50 | \n",
      "\n",
      "Train Epoch: 2 [29952/60000 (50%)]\tAvgloss: 0.086771\tTime: 309.2\n",
      "Train Epoch: 2 [59904/60000 (100%)]\tAvgloss: 0.086088\tTime: 617.5\n",
      "                                                   \n",
      "Test set: Avg loss: 0.0527 |  Accuracy: 98.48 | \n",
      "\n",
      "Train Epoch: 3 [29952/60000 (50%)]\tAvgloss: 0.085230\tTime: 309.3\n",
      "Train Epoch: 3 [59904/60000 (100%)]\tAvgloss: 0.076336\tTime: 617.6\n",
      "                                                   \n",
      "Test set: Avg loss: 0.0507 |  Accuracy: 98.43 | \n",
      "\n",
      "Train Epoch: 4 [29952/60000 (50%)]\tAvgloss: 0.074336\tTime: 309.1\n",
      "Train Epoch: 4 [59904/60000 (100%)]\tAvgloss: 0.078291\tTime: 617.4\n",
      "                                                   \n",
      "Test set: Avg loss: 0.0599 |  Accuracy: 98.18 | \n",
      "\n"
     ]
    }
   ],
   "source": [
    "# bcn torch\n",
    "from sim_model.res_new_fix_inplace import ResNet34\n",
    "\n",
    "# @weak_module\n",
    "class condNorm(nn.Module):\n",
    "    def __init__(self, planes=64, minl=1.0, eps=1e-5):\n",
    "        super().__init__()\n",
    "        self.planes = planes\n",
    "        self.minl = minl\n",
    "        self.eps = eps\n",
    "    \n",
    "    def forward(self, x):\n",
    "        # x: N x C x H x W,  4D Tensor\n",
    "        x = x - x.mean([0,2,3], keepdim=True)\n",
    "        norm = torch.sqrt(torch.mean(x**2, dim=[0,2,3], keepdim=True) + self.eps)\n",
    "        x = x / torch.max(norm, self.minl*torch.ones_like(norm))\n",
    "        return x\n",
    "    \n",
    "model = ResNet34(normlayer=condNorm).to(device)\n",
    "print('Number of Parameters: ', sum([p.numel() for p in model.parameters()]))\n",
    "print(model)\n",
    "sdir = './runs/tmp_time_test'\n",
    "optimizer = optim.Adam(model.parameters(), lr=0.001, weight_decay=1e-4)\n",
    "tloss, tacc = Pipeline(sdir, model, optimizer, 'res34_bcn_th', 4)"
   ]
  },
  {
   "cell_type": "code",
   "execution_count": null,
   "metadata": {
    "collapsed": true
   },
   "outputs": [],
   "source": []
  },
  {
   "cell_type": "code",
   "execution_count": null,
   "metadata": {
    "collapsed": true
   },
   "outputs": [],
   "source": []
  },
  {
   "cell_type": "code",
   "execution_count": null,
   "metadata": {
    "collapsed": true
   },
   "outputs": [],
   "source": []
  },
  {
   "cell_type": "markdown",
   "metadata": {},
   "source": [
    "# remain"
   ]
  },
  {
   "cell_type": "markdown",
   "metadata": {
    "heading_collapsed": true
   },
   "source": [
    "## res18 cn2 alpha\n",
    "cn1 remove maxpool in backbone  \n",
    "replace all bn by cn, eg:  \n",
    "backbone bn, conv-~~cn~~-relu, - BasicBlock(+skip cn)  \n",
    "minl = 1.0  "
   ]
  },
  {
   "cell_type": "code",
   "execution_count": 5,
   "metadata": {
    "ExecuteTime": {
     "end_time": "2019-10-20T13:28:54.479586Z",
     "start_time": "2019-10-20T13:28:51.611485Z"
    },
    "hidden": true
   },
   "outputs": [
    {
     "name": "stdout",
     "output_type": "stream",
     "text": [
      "Number of Parameters:  11165770\n",
      "Training Parameters:  11165770\n"
     ]
    }
   ],
   "source": [
    "from sim_model.res_direct_alpha import resnet18\n",
    "\n",
    "model = resnet18(num_classes=10, norm_layer=condNorm, nchannel=1).to(device)\n",
    "print('Number of Parameters: ', sum([p.numel() for p in model.parameters()]))\n",
    "print('Training Parameters: ', sum([p.numel() for p in model.parameters() if p.requires_grad]))"
   ]
  },
  {
   "cell_type": "code",
   "execution_count": 6,
   "metadata": {
    "ExecuteTime": {
     "end_time": "2019-10-20T16:32:32.528459Z",
     "start_time": "2019-10-20T13:28:54.518676Z"
    },
    "hidden": true,
    "scrolled": true
   },
   "outputs": [
    {
     "name": "stdout",
     "output_type": "stream",
     "text": [
      "Train Epoch: 1 [29952/60000 (50%)]\tAvgloss: 0.253693\tTime: 118.6\n",
      "Train Epoch: 1 [59904/60000 (100%)]\tAvgloss: 0.100765\tTime: 236.6\n",
      "                                                   \n",
      "Test set: Avg loss: 0.0749 |  Accuracy: 98.08 | \n",
      "\n",
      "Train Epoch: 2 [29952/60000 (50%)]\tAvgloss: 0.084940\tTime: 127.2\n",
      "Train Epoch: 2 [59904/60000 (100%)]\tAvgloss: 0.077936\tTime: 238.1\n",
      "                                                   \n",
      "Test set: Avg loss: 0.0437 |  Accuracy: 98.83 | \n",
      "\n",
      "Train Epoch: 3 [29952/60000 (50%)]\tAvgloss: 0.067328\tTime: 112.2\n",
      "Train Epoch: 3 [59904/60000 (100%)]\tAvgloss: 0.070459\tTime: 229.0\n",
      "                                                   \n",
      "Test set: Avg loss: 0.0299 |  Accuracy: 99.03 | \n",
      "\n",
      "Train Epoch: 4 [29952/60000 (50%)]\tAvgloss: 0.060539\tTime: 123.2\n",
      "Train Epoch: 4 [59904/60000 (100%)]\tAvgloss: 0.064734\tTime: 242.2\n",
      "                                                   \n",
      "Test set: Avg loss: 0.0678 |  Accuracy: 98.18 | \n",
      "\n",
      "Train Epoch: 5 [29952/60000 (50%)]\tAvgloss: 0.057901\tTime: 118.0\n",
      "Train Epoch: 5 [59904/60000 (100%)]\tAvgloss: 0.061886\tTime: 234.5\n",
      "                                                   \n",
      "Test set: Avg loss: 0.1218 |  Accuracy: 96.52 | \n",
      "\n",
      "Train Epoch: 6 [29952/60000 (50%)]\tAvgloss: 0.057190\tTime: 120.0\n",
      "Train Epoch: 6 [59904/60000 (100%)]\tAvgloss: 0.051528\tTime: 234.7\n",
      "                                                   \n",
      "Test set: Avg loss: 0.0317 |  Accuracy: 99.13 | \n",
      "\n",
      "Train Epoch: 7 [29952/60000 (50%)]\tAvgloss: 0.050573\tTime: 119.7\n",
      "Train Epoch: 7 [59904/60000 (100%)]\tAvgloss: 0.048521\tTime: 235.0\n",
      "                                                   \n",
      "Test set: Avg loss: 0.0537 |  Accuracy: 98.69 | \n",
      "\n",
      "Train Epoch: 8 [29952/60000 (50%)]\tAvgloss: 0.044160\tTime: 118.2\n",
      "Train Epoch: 8 [59904/60000 (100%)]\tAvgloss: 0.051609\tTime: 245.0\n",
      "                                                   \n",
      "Test set: Avg loss: 0.0291 |  Accuracy: 99.19 | \n",
      "\n",
      "Train Epoch: 9 [29952/60000 (50%)]\tAvgloss: 0.044625\tTime: 128.1\n",
      "Train Epoch: 9 [59904/60000 (100%)]\tAvgloss: 0.049593\tTime: 257.3\n",
      "                                                   \n",
      "Test set: Avg loss: 0.0261 |  Accuracy: 99.29 | \n",
      "\n",
      "Train Epoch: 10 [29952/60000 (50%)]\tAvgloss: 0.044202\tTime: 128.5\n",
      "Train Epoch: 10 [59904/60000 (100%)]\tAvgloss: 0.048905\tTime: 256.9\n",
      "                                                   \n",
      "Test set: Avg loss: 0.0274 |  Accuracy: 99.26 | \n",
      "\n",
      "Train Epoch: 11 [29952/60000 (50%)]\tAvgloss: 0.038272\tTime: 123.5\n",
      "Train Epoch: 11 [59904/60000 (100%)]\tAvgloss: 0.049918\tTime: 253.8\n",
      "                                                   \n",
      "Test set: Avg loss: 0.0359 |  Accuracy: 98.96 | \n",
      "\n",
      "Train Epoch: 12 [29952/60000 (50%)]\tAvgloss: 0.041469\tTime: 123.5\n",
      "Train Epoch: 12 [59904/60000 (100%)]\tAvgloss: 0.042071\tTime: 249.3\n",
      "                                                   \n",
      "Test set: Avg loss: 0.0380 |  Accuracy: 99.02 | \n",
      "\n",
      "Train Epoch: 13 [29952/60000 (50%)]\tAvgloss: 0.036642\tTime: 116.6\n",
      "Train Epoch: 13 [59904/60000 (100%)]\tAvgloss: 0.046450\tTime: 241.4\n",
      "                                                   \n",
      "Test set: Avg loss: 0.0379 |  Accuracy: 98.94 | \n",
      "\n",
      "Train Epoch: 14 [29952/60000 (50%)]\tAvgloss: 0.040435\tTime: 125.9\n",
      "Train Epoch: 14 [59904/60000 (100%)]\tAvgloss: 0.037771\tTime: 251.6\n",
      "                                                   \n",
      "Test set: Avg loss: 0.0269 |  Accuracy: 99.17 | \n",
      "\n",
      "Train Epoch: 15 [29952/60000 (50%)]\tAvgloss: 0.038885\tTime: 124.7\n",
      "Train Epoch: 15 [59904/60000 (100%)]\tAvgloss: 0.044180\tTime: 251.0\n",
      "                                                   \n",
      "Test set: Avg loss: 0.0435 |  Accuracy: 98.79 | \n",
      "\n",
      "Train Epoch: 16 [29952/60000 (50%)]\tAvgloss: 0.013544\tTime: 123.8\n",
      "Train Epoch: 16 [59904/60000 (100%)]\tAvgloss: 0.012109\tTime: 248.0\n",
      "                                                   \n",
      "Test set: Avg loss: 0.0170 |  Accuracy: 99.53 | \n",
      "\n",
      "Train Epoch: 17 [29952/60000 (50%)]\tAvgloss: 0.007389\tTime: 129.4\n",
      "Train Epoch: 17 [59904/60000 (100%)]\tAvgloss: 0.008809\tTime: 248.8\n",
      "                                                   \n",
      "Test set: Avg loss: 0.0169 |  Accuracy: 99.59 | \n",
      "\n",
      "Train Epoch: 18 [29952/60000 (50%)]\tAvgloss: 0.007044\tTime: 122.9\n",
      "Train Epoch: 18 [59904/60000 (100%)]\tAvgloss: 0.005509\tTime: 249.1\n",
      "                                                   \n",
      "Test set: Avg loss: 0.0158 |  Accuracy: 99.62 | \n",
      "\n",
      "Train Epoch: 19 [29952/60000 (50%)]\tAvgloss: 0.004533\tTime: 126.5\n",
      "Train Epoch: 19 [59904/60000 (100%)]\tAvgloss: 0.006432\tTime: 246.7\n",
      "                                                   \n",
      "Test set: Avg loss: 0.0172 |  Accuracy: 99.56 | \n",
      "\n",
      "Train Epoch: 20 [29952/60000 (50%)]\tAvgloss: 0.004307\tTime: 121.6\n",
      "Train Epoch: 20 [59904/60000 (100%)]\tAvgloss: 0.006129\tTime: 242.7\n",
      "                                                   \n",
      "Test set: Avg loss: 0.0180 |  Accuracy: 99.50 | \n",
      "\n",
      "Train Epoch: 21 [29952/60000 (50%)]\tAvgloss: 0.003369\tTime: 131.5\n",
      "Train Epoch: 21 [59904/60000 (100%)]\tAvgloss: 0.004706\tTime: 256.1\n",
      "                                                   \n",
      "Test set: Avg loss: 0.0156 |  Accuracy: 99.63 | \n",
      "\n",
      "Train Epoch: 22 [29952/60000 (50%)]\tAvgloss: 0.003946\tTime: 131.4\n",
      "Train Epoch: 22 [59904/60000 (100%)]\tAvgloss: 0.005112\tTime: 252.4\n",
      "                                                   \n",
      "Test set: Avg loss: 0.0209 |  Accuracy: 99.49 | \n",
      "\n",
      "Train Epoch: 23 [29952/60000 (50%)]\tAvgloss: 0.003869\tTime: 125.5\n",
      "Train Epoch: 23 [59904/60000 (100%)]\tAvgloss: 0.004084\tTime: 247.1\n",
      "                                                   \n",
      "Test set: Avg loss: 0.0172 |  Accuracy: 99.55 | \n",
      "\n",
      "Train Epoch: 24 [29952/60000 (50%)]\tAvgloss: 0.002494\tTime: 123.3\n",
      "Train Epoch: 24 [59904/60000 (100%)]\tAvgloss: 0.006764\tTime: 245.8\n",
      "                                                   \n",
      "Test set: Avg loss: 0.0185 |  Accuracy: 99.48 | \n",
      "\n",
      "Train Epoch: 25 [29952/60000 (50%)]\tAvgloss: 0.003563\tTime: 120.0\n",
      "Train Epoch: 25 [59904/60000 (100%)]\tAvgloss: 0.002885\tTime: 236.3\n",
      "                                                   \n",
      "Test set: Avg loss: 0.0226 |  Accuracy: 99.39 | \n",
      "\n",
      "Train Epoch: 26 [29952/60000 (50%)]\tAvgloss: 0.003125\tTime: 115.7\n",
      "Train Epoch: 26 [59904/60000 (100%)]\tAvgloss: 0.004685\tTime: 235.7\n",
      "                                                   \n",
      "Test set: Avg loss: 0.0155 |  Accuracy: 99.56 | \n",
      "\n",
      "Train Epoch: 27 [29952/60000 (50%)]\tAvgloss: 0.002420\tTime: 121.9\n",
      "Train Epoch: 27 [59904/60000 (100%)]\tAvgloss: 0.004320\tTime: 237.8\n",
      "                                                   \n",
      "Test set: Avg loss: 0.0164 |  Accuracy: 99.59 | \n",
      "\n",
      "Train Epoch: 28 [29952/60000 (50%)]\tAvgloss: 0.003312\tTime: 120.7\n",
      "Train Epoch: 28 [59904/60000 (100%)]\tAvgloss: 0.003298\tTime: 235.2\n",
      "                                                   \n",
      "Test set: Avg loss: 0.0154 |  Accuracy: 99.57 | \n",
      "\n",
      "Train Epoch: 29 [29952/60000 (50%)]\tAvgloss: 0.003334\tTime: 125.5\n",
      "Train Epoch: 29 [59904/60000 (100%)]\tAvgloss: 0.003445\tTime: 249.9\n",
      "                                                   \n",
      "Test set: Avg loss: 0.0188 |  Accuracy: 99.54 | \n",
      "\n",
      "Train Epoch: 30 [29952/60000 (50%)]\tAvgloss: 0.002773\tTime: 115.0\n",
      "Train Epoch: 30 [59904/60000 (100%)]\tAvgloss: 0.004070\tTime: 231.5\n",
      "                                                   \n",
      "Test set: Avg loss: 0.0202 |  Accuracy: 99.51 | \n",
      "\n",
      "Train Epoch: 31 [29952/60000 (50%)]\tAvgloss: 0.001816\tTime: 121.5\n",
      "Train Epoch: 31 [59904/60000 (100%)]\tAvgloss: 0.001215\tTime: 241.2\n",
      "                                                   \n",
      "Test set: Avg loss: 0.0170 |  Accuracy: 99.58 | \n",
      "\n",
      "Train Epoch: 32 [29952/60000 (50%)]\tAvgloss: 0.001194\tTime: 115.6\n",
      "Train Epoch: 32 [59904/60000 (100%)]\tAvgloss: 0.001249\tTime: 239.2\n",
      "                                                   \n",
      "Test set: Avg loss: 0.0174 |  Accuracy: 99.58 | \n",
      "\n",
      "Train Epoch: 33 [29952/60000 (50%)]\tAvgloss: 0.000766\tTime: 128.3\n",
      "Train Epoch: 33 [59904/60000 (100%)]\tAvgloss: 0.001520\tTime: 248.4\n",
      "                                                   \n",
      "Test set: Avg loss: 0.0170 |  Accuracy: 99.57 | \n",
      "\n",
      "Train Epoch: 34 [29952/60000 (50%)]\tAvgloss: 0.001227\tTime: 125.1\n",
      "Train Epoch: 34 [59904/60000 (100%)]\tAvgloss: 0.000906\tTime: 245.0\n",
      "                                                   \n",
      "Test set: Avg loss: 0.0168 |  Accuracy: 99.55 | \n",
      "\n",
      "Train Epoch: 35 [29952/60000 (50%)]\tAvgloss: 0.001165\tTime: 121.4\n",
      "Train Epoch: 35 [59904/60000 (100%)]\tAvgloss: 0.000925\tTime: 238.9\n",
      "                                                   \n",
      "Test set: Avg loss: 0.0177 |  Accuracy: 99.56 | \n",
      "\n"
     ]
    },
    {
     "name": "stdout",
     "output_type": "stream",
     "text": [
      "Train Epoch: 36 [29952/60000 (50%)]\tAvgloss: 0.000744\tTime: 122.2\n",
      "Train Epoch: 36 [59904/60000 (100%)]\tAvgloss: 0.001324\tTime: 249.0\n",
      "                                                   \n",
      "Test set: Avg loss: 0.0169 |  Accuracy: 99.57 | \n",
      "\n",
      "Train Epoch: 37 [29952/60000 (50%)]\tAvgloss: 0.000923\tTime: 122.4\n",
      "Train Epoch: 37 [59904/60000 (100%)]\tAvgloss: 0.001106\tTime: 238.8\n",
      "                                                   \n",
      "Test set: Avg loss: 0.0178 |  Accuracy: 99.57 | \n",
      "\n",
      "Train Epoch: 38 [29952/60000 (50%)]\tAvgloss: 0.000739\tTime: 117.5\n",
      "Train Epoch: 38 [59904/60000 (100%)]\tAvgloss: 0.001258\tTime: 231.6\n",
      "                                                   \n",
      "Test set: Avg loss: 0.0171 |  Accuracy: 99.56 | \n",
      "\n",
      "Train Epoch: 39 [29952/60000 (50%)]\tAvgloss: 0.001133\tTime: 112.9\n",
      "Train Epoch: 39 [59904/60000 (100%)]\tAvgloss: 0.000851\tTime: 237.2\n",
      "                                                   \n",
      "Test set: Avg loss: 0.0178 |  Accuracy: 99.56 | \n",
      "\n",
      "Train Epoch: 40 [29952/60000 (50%)]\tAvgloss: 0.001106\tTime: 116.3\n",
      "Train Epoch: 40 [59904/60000 (100%)]\tAvgloss: 0.000740\tTime: 233.9\n",
      "                                                   \n",
      "Test set: Avg loss: 0.0183 |  Accuracy: 99.58 | \n",
      "\n",
      "Train Epoch: 41 [29952/60000 (50%)]\tAvgloss: 0.000979\tTime: 129.7\n",
      "Train Epoch: 41 [59904/60000 (100%)]\tAvgloss: 0.000920\tTime: 246.7\n",
      "                                                   \n",
      "Test set: Avg loss: 0.0183 |  Accuracy: 99.58 | \n",
      "\n",
      "Train Epoch: 42 [29952/60000 (50%)]\tAvgloss: 0.000696\tTime: 116.9\n",
      "Train Epoch: 42 [59904/60000 (100%)]\tAvgloss: 0.001074\tTime: 237.8\n",
      "                                                   \n",
      "Test set: Avg loss: 0.0189 |  Accuracy: 99.57 | \n",
      "\n",
      "Train Epoch: 43 [29952/60000 (50%)]\tAvgloss: 0.000642\tTime: 126.6\n",
      "Train Epoch: 43 [59904/60000 (100%)]\tAvgloss: 0.001103\tTime: 246.5\n",
      "                                                   \n",
      "Test set: Avg loss: 0.0196 |  Accuracy: 99.57 | \n",
      "\n",
      "Train Epoch: 44 [29952/60000 (50%)]\tAvgloss: 0.000493\tTime: 116.4\n",
      "Train Epoch: 44 [59904/60000 (100%)]\tAvgloss: 0.001299\tTime: 234.2\n",
      "                                                   \n",
      "Test set: Avg loss: 0.0188 |  Accuracy: 99.57 | \n",
      "\n",
      "Train Epoch: 45 [29952/60000 (50%)]\tAvgloss: 0.000769\tTime: 118.1\n",
      "Train Epoch: 45 [59904/60000 (100%)]\tAvgloss: 0.000930\tTime: 230.9\n",
      "                                                   \n",
      "Test set: Avg loss: 0.0191 |  Accuracy: 99.57 | \n",
      "\n"
     ]
    }
   ],
   "source": [
    "sdir = './runs/res18_cond2_alpha'\n",
    "optimizer = optim.Adam(model.parameters(), lr=0.001, weight_decay=1e-4)\n",
    "tloss, tacc = Pipeline(sdir, model, optimizer, 'res18', 45)"
   ]
  },
  {
   "cell_type": "code",
   "execution_count": null,
   "metadata": {
    "collapsed": true,
    "hidden": true
   },
   "outputs": [],
   "source": []
  },
  {
   "cell_type": "code",
   "execution_count": null,
   "metadata": {
    "collapsed": true,
    "hidden": true
   },
   "outputs": [],
   "source": []
  },
  {
   "cell_type": "markdown",
   "metadata": {},
   "source": [
    "## res18 cn5 (new)"
   ]
  },
  {
   "cell_type": "code",
   "execution_count": 20,
   "metadata": {
    "ExecuteTime": {
     "end_time": "2019-10-21T10:53:50.340439Z",
     "start_time": "2019-10-21T10:53:50.211628Z"
    },
    "scrolled": true
   },
   "outputs": [
    {
     "name": "stdout",
     "output_type": "stream",
     "text": [
      "Number of Parameters:  11165002\n",
      "Training Parameters:  11165002\n"
     ]
    },
    {
     "data": {
      "text/plain": [
       "ResNet(\n",
       "  (conv1): Conv2d(1, 64, kernel_size=(3, 3), stride=(1, 1), padding=(1, 1), bias=False)\n",
       "  (layer1): Sequential(\n",
       "    (0): BasicBlock(\n",
       "      (conv1): Conv2d(64, 64, kernel_size=(3, 3), stride=(1, 1), padding=(1, 1), bias=False)\n",
       "      (bn1): condNorm()\n",
       "      (conv2): Conv2d(64, 64, kernel_size=(3, 3), stride=(1, 1), padding=(1, 1), bias=False)\n",
       "      (bn2): condNorm()\n",
       "      (shortcut): Sequential()\n",
       "    )\n",
       "    (1): BasicBlock(\n",
       "      (conv1): Conv2d(64, 64, kernel_size=(3, 3), stride=(1, 1), padding=(1, 1), bias=False)\n",
       "      (bn1): condNorm()\n",
       "      (conv2): Conv2d(64, 64, kernel_size=(3, 3), stride=(1, 1), padding=(1, 1), bias=False)\n",
       "      (bn2): condNorm()\n",
       "      (shortcut): Sequential()\n",
       "    )\n",
       "  )\n",
       "  (layer2): Sequential(\n",
       "    (0): BasicBlock(\n",
       "      (conv1): Conv2d(64, 128, kernel_size=(3, 3), stride=(2, 2), padding=(1, 1), bias=False)\n",
       "      (bn1): condNorm()\n",
       "      (conv2): Conv2d(128, 128, kernel_size=(3, 3), stride=(1, 1), padding=(1, 1), bias=False)\n",
       "      (bn2): condNorm()\n",
       "      (shortcut): Sequential(\n",
       "        (0): Conv2d(64, 128, kernel_size=(1, 1), stride=(2, 2), bias=False)\n",
       "        (1): BatchNorm2d(128, eps=1e-05, momentum=0.1, affine=True, track_running_stats=True)\n",
       "      )\n",
       "    )\n",
       "    (1): BasicBlock(\n",
       "      (conv1): Conv2d(128, 128, kernel_size=(3, 3), stride=(1, 1), padding=(1, 1), bias=False)\n",
       "      (bn1): condNorm()\n",
       "      (conv2): Conv2d(128, 128, kernel_size=(3, 3), stride=(1, 1), padding=(1, 1), bias=False)\n",
       "      (bn2): condNorm()\n",
       "      (shortcut): Sequential()\n",
       "    )\n",
       "  )\n",
       "  (layer3): Sequential(\n",
       "    (0): BasicBlock(\n",
       "      (conv1): Conv2d(128, 256, kernel_size=(3, 3), stride=(2, 2), padding=(1, 1), bias=False)\n",
       "      (bn1): condNorm()\n",
       "      (conv2): Conv2d(256, 256, kernel_size=(3, 3), stride=(1, 1), padding=(1, 1), bias=False)\n",
       "      (bn2): condNorm()\n",
       "      (shortcut): Sequential(\n",
       "        (0): Conv2d(128, 256, kernel_size=(1, 1), stride=(2, 2), bias=False)\n",
       "        (1): BatchNorm2d(256, eps=1e-05, momentum=0.1, affine=True, track_running_stats=True)\n",
       "      )\n",
       "    )\n",
       "    (1): BasicBlock(\n",
       "      (conv1): Conv2d(256, 256, kernel_size=(3, 3), stride=(1, 1), padding=(1, 1), bias=False)\n",
       "      (bn1): condNorm()\n",
       "      (conv2): Conv2d(256, 256, kernel_size=(3, 3), stride=(1, 1), padding=(1, 1), bias=False)\n",
       "      (bn2): condNorm()\n",
       "      (shortcut): Sequential()\n",
       "    )\n",
       "  )\n",
       "  (layer4): Sequential(\n",
       "    (0): BasicBlock(\n",
       "      (conv1): Conv2d(256, 512, kernel_size=(3, 3), stride=(2, 2), padding=(1, 1), bias=False)\n",
       "      (bn1): condNorm()\n",
       "      (conv2): Conv2d(512, 512, kernel_size=(3, 3), stride=(1, 1), padding=(1, 1), bias=False)\n",
       "      (bn2): condNorm()\n",
       "      (shortcut): Sequential(\n",
       "        (0): Conv2d(256, 512, kernel_size=(1, 1), stride=(2, 2), bias=False)\n",
       "        (1): BatchNorm2d(512, eps=1e-05, momentum=0.1, affine=True, track_running_stats=True)\n",
       "      )\n",
       "    )\n",
       "    (1): BasicBlock(\n",
       "      (conv1): Conv2d(512, 512, kernel_size=(3, 3), stride=(1, 1), padding=(1, 1), bias=False)\n",
       "      (bn1): condNorm()\n",
       "      (conv2): Conv2d(512, 512, kernel_size=(3, 3), stride=(1, 1), padding=(1, 1), bias=False)\n",
       "      (bn2): condNorm()\n",
       "      (shortcut): Sequential()\n",
       "    )\n",
       "  )\n",
       "  (gap): AdaptiveAvgPool2d(output_size=1)\n",
       "  (linear): Linear(in_features=512, out_features=10, bias=True)\n",
       ")"
      ]
     },
     "execution_count": 20,
     "metadata": {},
     "output_type": "execute_result"
    }
   ],
   "source": [
    "from sim_model.res_new import ResNet18\n",
    "\n",
    "model = ResNet18(normlayer=condNorm).to(device)\n",
    "print('Number of Parameters: ', sum([p.numel() for p in model.parameters()]))\n",
    "print('Training Parameters: ', sum([p.numel() for p in model.parameters() if p.requires_grad]))\n",
    "model"
   ]
  },
  {
   "cell_type": "code",
   "execution_count": 21,
   "metadata": {
    "ExecuteTime": {
     "end_time": "2019-10-21T13:28:39.929572Z",
     "start_time": "2019-10-21T10:54:42.413634Z"
    },
    "scrolled": true
   },
   "outputs": [
    {
     "name": "stdout",
     "output_type": "stream",
     "text": [
      "Train Epoch: 1 [29952/60000 (50%)]\tAvgloss: 0.207627\tTime: 192.7\n",
      "Train Epoch: 1 [59904/60000 (100%)]\tAvgloss: 0.080261\tTime: 389.2\n",
      "                                                   \n",
      "Test set: Avg loss: 0.0482 |  Accuracy: 98.55 | \n",
      "\n",
      "Train Epoch: 2 [29952/60000 (50%)]\tAvgloss: 0.060528\tTime: 197.5\n",
      "Train Epoch: 2 [59904/60000 (100%)]\tAvgloss: 0.061141\tTime: 394.4\n",
      "                                                   \n",
      "Test set: Avg loss: 0.0637 |  Accuracy: 98.10 | \n",
      "\n",
      "Train Epoch: 3 [29952/60000 (50%)]\tAvgloss: 0.052565\tTime: 197.1\n",
      "Train Epoch: 3 [59904/60000 (100%)]\tAvgloss: 0.057816\tTime: 393.6\n",
      "                                                   \n",
      "Test set: Avg loss: 0.0361 |  Accuracy: 98.85 | \n",
      "\n",
      "Train Epoch: 4 [29952/60000 (50%)]\tAvgloss: 0.052358\tTime: 197.1\n",
      "Train Epoch: 4 [59904/60000 (100%)]\tAvgloss: 0.051488\tTime: 393.9\n",
      "                                                   \n",
      "Test set: Avg loss: 0.0320 |  Accuracy: 98.99 | \n",
      "\n",
      "Train Epoch: 5 [29952/60000 (50%)]\tAvgloss: 0.048532\tTime: 197.4\n",
      "Train Epoch: 5 [59904/60000 (100%)]\tAvgloss: 0.046594\tTime: 393.9\n",
      "                                                   \n",
      "Test set: Avg loss: 0.0242 |  Accuracy: 99.21 | \n",
      "\n",
      "Train Epoch: 6 [29952/60000 (50%)]\tAvgloss: 0.048187\tTime: 197.7\n",
      "Train Epoch: 6 [59904/60000 (100%)]\tAvgloss: 0.045551\tTime: 394.3\n",
      "                                                   \n",
      "Test set: Avg loss: 0.0362 |  Accuracy: 98.99 | \n",
      "\n",
      "Train Epoch: 7 [29952/60000 (50%)]\tAvgloss: 0.043889\tTime: 196.9\n",
      "Train Epoch: 7 [59904/60000 (100%)]\tAvgloss: 0.044654\tTime: 392.9\n",
      "                                                   \n",
      "Test set: Avg loss: 0.0421 |  Accuracy: 98.65 | \n",
      "\n",
      "Train Epoch: 8 [29952/60000 (50%)]\tAvgloss: 0.040345\tTime: 197.1\n",
      "Train Epoch: 8 [59904/60000 (100%)]\tAvgloss: 0.046882\tTime: 393.3\n",
      "                                                   \n",
      "Test set: Avg loss: 0.0264 |  Accuracy: 99.14 | \n",
      "\n",
      "Train Epoch: 9 [29952/60000 (50%)]\tAvgloss: 0.037853\tTime: 197.0\n",
      "Train Epoch: 9 [59904/60000 (100%)]\tAvgloss: 0.044092\tTime: 393.3\n",
      "                                                   \n",
      "Test set: Avg loss: 0.0242 |  Accuracy: 99.28 | \n",
      "\n",
      "Train Epoch: 10 [29952/60000 (50%)]\tAvgloss: 0.035732\tTime: 196.9\n",
      "Train Epoch: 10 [59904/60000 (100%)]\tAvgloss: 0.041291\tTime: 392.9\n",
      "                                                   \n",
      "Test set: Avg loss: 0.0240 |  Accuracy: 99.33 | \n",
      "\n",
      "Train Epoch: 11 [29952/60000 (50%)]\tAvgloss: 0.036846\tTime: 197.1\n",
      "Train Epoch: 11 [59904/60000 (100%)]\tAvgloss: 0.038163\tTime: 393.3\n",
      "                                                   \n",
      "Test set: Avg loss: 0.0171 |  Accuracy: 99.53 | \n",
      "\n",
      "Train Epoch: 12 [29952/60000 (50%)]\tAvgloss: 0.034696\tTime: 197.1\n",
      "Train Epoch: 12 [59904/60000 (100%)]\tAvgloss: 0.036051\tTime: 393.1\n",
      "                                                   \n",
      "Test set: Avg loss: 0.0230 |  Accuracy: 99.32 | \n",
      "\n",
      "Train Epoch: 13 [29952/60000 (50%)]\tAvgloss: 0.034561\tTime: 196.1\n",
      "Train Epoch: 13 [59904/60000 (100%)]\tAvgloss: 0.040023\tTime: 391.3\n",
      "                                                   \n",
      "Test set: Avg loss: 0.0267 |  Accuracy: 99.20 | \n",
      "\n",
      "Train Epoch: 14 [29952/60000 (50%)]\tAvgloss: 0.038615\tTime: 196.4\n",
      "Train Epoch: 14 [59904/60000 (100%)]\tAvgloss: 0.035248\tTime: 391.9\n",
      "                                                   \n",
      "Test set: Avg loss: 0.0227 |  Accuracy: 99.22 | \n",
      "\n",
      "Train Epoch: 15 [29952/60000 (50%)]\tAvgloss: 0.031664\tTime: 196.3\n",
      "Train Epoch: 15 [59904/60000 (100%)]\tAvgloss: 0.034058\tTime: 391.6\n",
      "                                                   \n",
      "Test set: Avg loss: 0.0485 |  Accuracy: 98.39 | \n",
      "\n",
      "Train Epoch: 16 [29952/60000 (50%)]\tAvgloss: 0.013693\tTime: 196.1\n",
      "Train Epoch: 16 [59904/60000 (100%)]\tAvgloss: 0.011846\tTime: 391.8\n",
      "                                                   \n",
      "Test set: Avg loss: 0.0106 |  Accuracy: 99.72 | \n",
      "\n",
      "Train Epoch: 17 [29952/60000 (50%)]\tAvgloss: 0.007960\tTime: 196.4\n",
      "Train Epoch: 17 [59904/60000 (100%)]\tAvgloss: 0.009394\tTime: 392.3\n",
      "                                                   \n",
      "Test set: Avg loss: 0.0120 |  Accuracy: 99.61 | \n",
      "\n",
      "Train Epoch: 18 [29952/60000 (50%)]\tAvgloss: 0.006754\tTime: 196.5\n",
      "Train Epoch: 18 [59904/60000 (100%)]\tAvgloss: 0.008188\tTime: 392.5\n",
      "                                                   \n",
      "Test set: Avg loss: 0.0149 |  Accuracy: 99.52 | \n",
      "\n",
      "Train Epoch: 19 [29952/60000 (50%)]\tAvgloss: 0.004584\tTime: 196.5\n",
      "Train Epoch: 19 [59904/60000 (100%)]\tAvgloss: 0.006739\tTime: 392.5\n",
      "                                                   \n",
      "Test set: Avg loss: 0.0132 |  Accuracy: 99.56 | \n",
      "\n",
      "Train Epoch: 20 [29952/60000 (50%)]\tAvgloss: 0.004046\tTime: 196.3\n",
      "Train Epoch: 20 [59904/60000 (100%)]\tAvgloss: 0.005211\tTime: 391.9\n",
      "                                                   \n",
      "Test set: Avg loss: 0.0144 |  Accuracy: 99.59 | \n",
      "\n",
      "Train Epoch: 21 [29952/60000 (50%)]\tAvgloss: 0.002534\tTime: 196.2\n",
      "Train Epoch: 21 [59904/60000 (100%)]\tAvgloss: 0.004789\tTime: 391.8\n",
      "                                                   \n",
      "Test set: Avg loss: 0.0144 |  Accuracy: 99.68 | \n",
      "\n",
      "Train Epoch: 22 [29952/60000 (50%)]\tAvgloss: 0.003747\tTime: 196.3\n",
      "Train Epoch: 22 [59904/60000 (100%)]\tAvgloss: 0.003747\tTime: 392.0\n",
      "                                                   \n",
      "Test set: Avg loss: 0.0134 |  Accuracy: 99.61 | \n",
      "\n",
      "Train Epoch: 23 [29952/60000 (50%)]\tAvgloss: 0.002823\tTime: 196.3\n",
      "Train Epoch: 23 [59904/60000 (100%)]\tAvgloss: 0.003259\tTime: 391.8\n",
      "                                                   \n",
      "Test set: Avg loss: 0.0151 |  Accuracy: 99.57 | \n",
      "\n",
      "step: 0336/0938 loss: 0.0004 |\r"
     ]
    },
    {
     "ename": "KeyboardInterrupt",
     "evalue": "",
     "output_type": "error",
     "traceback": [
      "\u001b[0;31m---------------------------------------------------------------------------\u001b[0m",
      "\u001b[0;31mKeyboardInterrupt\u001b[0m                         Traceback (most recent call last)",
      "\u001b[0;32m<ipython-input-21-56b9e5b8b17e>\u001b[0m in \u001b[0;36m<module>\u001b[0;34m\u001b[0m\n\u001b[1;32m      1\u001b[0m \u001b[0msdir\u001b[0m \u001b[0;34m=\u001b[0m \u001b[0;34m'./runs/res18_cond5'\u001b[0m\u001b[0;34m\u001b[0m\u001b[0;34m\u001b[0m\u001b[0m\n\u001b[1;32m      2\u001b[0m \u001b[0moptimizer\u001b[0m \u001b[0;34m=\u001b[0m \u001b[0moptim\u001b[0m\u001b[0;34m.\u001b[0m\u001b[0mAdam\u001b[0m\u001b[0;34m(\u001b[0m\u001b[0mmodel\u001b[0m\u001b[0;34m.\u001b[0m\u001b[0mparameters\u001b[0m\u001b[0;34m(\u001b[0m\u001b[0;34m)\u001b[0m\u001b[0;34m,\u001b[0m \u001b[0mlr\u001b[0m\u001b[0;34m=\u001b[0m\u001b[0;36m0.001\u001b[0m\u001b[0;34m,\u001b[0m \u001b[0mweight_decay\u001b[0m\u001b[0;34m=\u001b[0m\u001b[0;36m1e-4\u001b[0m\u001b[0;34m)\u001b[0m\u001b[0;34m\u001b[0m\u001b[0;34m\u001b[0m\u001b[0m\n\u001b[0;32m----> 3\u001b[0;31m \u001b[0mtloss\u001b[0m\u001b[0;34m,\u001b[0m \u001b[0mtacc\u001b[0m \u001b[0;34m=\u001b[0m \u001b[0mPipeline\u001b[0m\u001b[0;34m(\u001b[0m\u001b[0msdir\u001b[0m\u001b[0;34m,\u001b[0m \u001b[0mmodel\u001b[0m\u001b[0;34m,\u001b[0m \u001b[0moptimizer\u001b[0m\u001b[0;34m,\u001b[0m \u001b[0;34m'res18'\u001b[0m\u001b[0;34m,\u001b[0m \u001b[0;36m45\u001b[0m\u001b[0;34m)\u001b[0m\u001b[0;34m\u001b[0m\u001b[0;34m\u001b[0m\u001b[0m\n\u001b[0m",
      "\u001b[0;32m<ipython-input-3-b754f552e91d>\u001b[0m in \u001b[0;36mPipeline\u001b[0;34m(sdir, model, optimizer, name, nepoch, bep, patience, tloss, tacc, crit)\u001b[0m\n\u001b[1;32m      6\u001b[0m     \u001b[0mscheduler\u001b[0m \u001b[0;34m=\u001b[0m \u001b[0moptim\u001b[0m\u001b[0;34m.\u001b[0m\u001b[0mlr_scheduler\u001b[0m\u001b[0;34m.\u001b[0m\u001b[0mStepLR\u001b[0m\u001b[0;34m(\u001b[0m\u001b[0moptimizer\u001b[0m\u001b[0;34m,\u001b[0m \u001b[0mstep_size\u001b[0m\u001b[0;34m=\u001b[0m\u001b[0mpatience\u001b[0m\u001b[0;34m)\u001b[0m\u001b[0;34m\u001b[0m\u001b[0;34m\u001b[0m\u001b[0m\n\u001b[1;32m      7\u001b[0m     \u001b[0;32mfor\u001b[0m \u001b[0mepoch\u001b[0m \u001b[0;32min\u001b[0m \u001b[0mrange\u001b[0m\u001b[0;34m(\u001b[0m\u001b[0mbep\u001b[0m\u001b[0;34m,\u001b[0m \u001b[0mnepoch\u001b[0m\u001b[0;34m+\u001b[0m\u001b[0mbep\u001b[0m\u001b[0;34m)\u001b[0m\u001b[0;34m:\u001b[0m\u001b[0;34m\u001b[0m\u001b[0;34m\u001b[0m\u001b[0m\n\u001b[0;32m----> 8\u001b[0;31m         \u001b[0mtrain_mnist_adv\u001b[0m\u001b[0;34m(\u001b[0m\u001b[0mmodel\u001b[0m\u001b[0;34m,\u001b[0m \u001b[0mepoch\u001b[0m\u001b[0;34m=\u001b[0m\u001b[0mepoch\u001b[0m\u001b[0;34m,\u001b[0m \u001b[0moptimizer\u001b[0m\u001b[0;34m=\u001b[0m\u001b[0moptimizer\u001b[0m\u001b[0;34m,\u001b[0m \u001b[0mcrit\u001b[0m\u001b[0;34m=\u001b[0m\u001b[0mcrit\u001b[0m\u001b[0;34m)\u001b[0m\u001b[0;34m\u001b[0m\u001b[0;34m\u001b[0m\u001b[0m\n\u001b[0m\u001b[1;32m      9\u001b[0m         \u001b[0mvloss\u001b[0m\u001b[0;34m,\u001b[0m\u001b[0mvacc\u001b[0m \u001b[0;34m=\u001b[0m \u001b[0mtest_mnist\u001b[0m\u001b[0;34m(\u001b[0m\u001b[0mmodel\u001b[0m\u001b[0;34m,\u001b[0m\u001b[0mtest_crit\u001b[0m\u001b[0;34m=\u001b[0m\u001b[0mcrit\u001b[0m\u001b[0;34m)\u001b[0m\u001b[0;34m\u001b[0m\u001b[0;34m\u001b[0m\u001b[0m\n\u001b[1;32m     10\u001b[0m         \u001b[0mscheduler\u001b[0m\u001b[0;34m.\u001b[0m\u001b[0mstep\u001b[0m\u001b[0;34m(\u001b[0m\u001b[0;34m)\u001b[0m\u001b[0;34m\u001b[0m\u001b[0;34m\u001b[0m\u001b[0m\n",
      "\u001b[0;32m/home/append/Workspace/adversarial/src_adv/utils.py\u001b[0m in \u001b[0;36mtrain_pgd\u001b[0;34m(model, train_loader, epoch, optimizer, nprint, crit, eps, niter, alpha)\u001b[0m\n\u001b[1;32m     41\u001b[0m     \u001b[0;32mfor\u001b[0m \u001b[0mbatch_idx\u001b[0m\u001b[0;34m,\u001b[0m \u001b[0;34m(\u001b[0m\u001b[0mdata\u001b[0m\u001b[0;34m,\u001b[0m \u001b[0mtarget\u001b[0m\u001b[0;34m)\u001b[0m \u001b[0;32min\u001b[0m \u001b[0menumerate\u001b[0m\u001b[0;34m(\u001b[0m\u001b[0mtrain_loader\u001b[0m\u001b[0;34m)\u001b[0m\u001b[0;34m:\u001b[0m\u001b[0;34m\u001b[0m\u001b[0;34m\u001b[0m\u001b[0m\n\u001b[1;32m     42\u001b[0m         \u001b[0mdata\u001b[0m\u001b[0;34m,\u001b[0m \u001b[0mtarget\u001b[0m \u001b[0;34m=\u001b[0m \u001b[0mdata\u001b[0m\u001b[0;34m.\u001b[0m\u001b[0mto\u001b[0m\u001b[0;34m(\u001b[0m\u001b[0mdevice\u001b[0m\u001b[0;34m)\u001b[0m\u001b[0;34m,\u001b[0m \u001b[0mtarget\u001b[0m\u001b[0;34m.\u001b[0m\u001b[0mto\u001b[0m\u001b[0;34m(\u001b[0m\u001b[0mdevice\u001b[0m\u001b[0;34m)\u001b[0m\u001b[0;34m\u001b[0m\u001b[0;34m\u001b[0m\u001b[0m\n\u001b[0;32m---> 43\u001b[0;31m         \u001b[0meta\u001b[0m \u001b[0;34m=\u001b[0m \u001b[0m_pgd\u001b[0m\u001b[0;34m(\u001b[0m\u001b[0mmodel\u001b[0m\u001b[0;34m,\u001b[0m \u001b[0mdata\u001b[0m\u001b[0;34m,\u001b[0m \u001b[0mtarget\u001b[0m\u001b[0;34m,\u001b[0m \u001b[0mcrit\u001b[0m\u001b[0;34m,\u001b[0m \u001b[0meps\u001b[0m\u001b[0;34m,\u001b[0m \u001b[0mniter\u001b[0m\u001b[0;34m,\u001b[0m \u001b[0malpha\u001b[0m\u001b[0;34m)\u001b[0m\u001b[0;34m\u001b[0m\u001b[0;34m\u001b[0m\u001b[0m\n\u001b[0m\u001b[1;32m     44\u001b[0m         \u001b[0minps\u001b[0m \u001b[0;34m=\u001b[0m \u001b[0mtorch\u001b[0m\u001b[0;34m.\u001b[0m\u001b[0mcat\u001b[0m\u001b[0;34m(\u001b[0m\u001b[0;34m[\u001b[0m\u001b[0mdata\u001b[0m\u001b[0;34m+\u001b[0m\u001b[0meta\u001b[0m\u001b[0;34m,\u001b[0m \u001b[0mdata\u001b[0m\u001b[0;34m]\u001b[0m\u001b[0;34m,\u001b[0m \u001b[0mdim\u001b[0m\u001b[0;34m=\u001b[0m\u001b[0;36m0\u001b[0m\u001b[0;34m)\u001b[0m\u001b[0;34m\u001b[0m\u001b[0;34m\u001b[0m\u001b[0m\n\u001b[1;32m     45\u001b[0m         \u001b[0mlabs\u001b[0m \u001b[0;34m=\u001b[0m \u001b[0mtorch\u001b[0m\u001b[0;34m.\u001b[0m\u001b[0mcat\u001b[0m\u001b[0;34m(\u001b[0m\u001b[0;34m[\u001b[0m\u001b[0mtarget\u001b[0m\u001b[0;34m,\u001b[0m \u001b[0mtarget\u001b[0m\u001b[0;34m]\u001b[0m\u001b[0;34m,\u001b[0m \u001b[0mdim\u001b[0m\u001b[0;34m=\u001b[0m\u001b[0;36m0\u001b[0m\u001b[0;34m)\u001b[0m\u001b[0;34m\u001b[0m\u001b[0;34m\u001b[0m\u001b[0m\n",
      "\u001b[0;32m/home/append/Workspace/adversarial/src_adv/attack.py\u001b[0m in \u001b[0;36m_pgd\u001b[0;34m(model, X, y, crit, epsilon, niters, alpha)\u001b[0m\n\u001b[1;32m     22\u001b[0m     \u001b[0mX_pgd\u001b[0m \u001b[0;34m=\u001b[0m \u001b[0mVariable\u001b[0m\u001b[0;34m(\u001b[0m\u001b[0mX\u001b[0m\u001b[0;34m.\u001b[0m\u001b[0mdata\u001b[0m\u001b[0;34m,\u001b[0m \u001b[0mrequires_grad\u001b[0m\u001b[0;34m=\u001b[0m\u001b[0;32mTrue\u001b[0m\u001b[0;34m)\u001b[0m\u001b[0;34m\u001b[0m\u001b[0;34m\u001b[0m\u001b[0m\n\u001b[1;32m     23\u001b[0m     \u001b[0;32mfor\u001b[0m \u001b[0mi\u001b[0m \u001b[0;32min\u001b[0m \u001b[0mrange\u001b[0m\u001b[0;34m(\u001b[0m\u001b[0mniters\u001b[0m\u001b[0;34m)\u001b[0m\u001b[0;34m:\u001b[0m\u001b[0;34m\u001b[0m\u001b[0;34m\u001b[0m\u001b[0m\n\u001b[0;32m---> 24\u001b[0;31m         \u001b[0mloss\u001b[0m \u001b[0;34m=\u001b[0m \u001b[0mcrit\u001b[0m\u001b[0;34m(\u001b[0m\u001b[0mmodel\u001b[0m\u001b[0;34m(\u001b[0m\u001b[0mX_pgd\u001b[0m\u001b[0;34m)\u001b[0m\u001b[0;34m,\u001b[0m \u001b[0my\u001b[0m\u001b[0;34m)\u001b[0m\u001b[0;34m\u001b[0m\u001b[0;34m\u001b[0m\u001b[0m\n\u001b[0m\u001b[1;32m     25\u001b[0m         \u001b[0mloss\u001b[0m\u001b[0;34m.\u001b[0m\u001b[0mbackward\u001b[0m\u001b[0;34m(\u001b[0m\u001b[0;34m)\u001b[0m\u001b[0;34m\u001b[0m\u001b[0;34m\u001b[0m\u001b[0m\n\u001b[1;32m     26\u001b[0m         \u001b[0meta\u001b[0m \u001b[0;34m=\u001b[0m \u001b[0malpha\u001b[0m\u001b[0;34m*\u001b[0m\u001b[0mX_pgd\u001b[0m\u001b[0;34m.\u001b[0m\u001b[0mgrad\u001b[0m\u001b[0;34m.\u001b[0m\u001b[0mdata\u001b[0m\u001b[0;34m.\u001b[0m\u001b[0msign\u001b[0m\u001b[0;34m(\u001b[0m\u001b[0;34m)\u001b[0m\u001b[0;34m\u001b[0m\u001b[0;34m\u001b[0m\u001b[0m\n",
      "\u001b[0;32m/usr/custom/anaconda3/lib/python3.6/site-packages/torch/nn/modules/module.py\u001b[0m in \u001b[0;36m__call__\u001b[0;34m(self, *input, **kwargs)\u001b[0m\n\u001b[1;32m    491\u001b[0m             \u001b[0mresult\u001b[0m \u001b[0;34m=\u001b[0m \u001b[0mself\u001b[0m\u001b[0;34m.\u001b[0m\u001b[0m_slow_forward\u001b[0m\u001b[0;34m(\u001b[0m\u001b[0;34m*\u001b[0m\u001b[0minput\u001b[0m\u001b[0;34m,\u001b[0m \u001b[0;34m**\u001b[0m\u001b[0mkwargs\u001b[0m\u001b[0;34m)\u001b[0m\u001b[0;34m\u001b[0m\u001b[0;34m\u001b[0m\u001b[0m\n\u001b[1;32m    492\u001b[0m         \u001b[0;32melse\u001b[0m\u001b[0;34m:\u001b[0m\u001b[0;34m\u001b[0m\u001b[0;34m\u001b[0m\u001b[0m\n\u001b[0;32m--> 493\u001b[0;31m             \u001b[0mresult\u001b[0m \u001b[0;34m=\u001b[0m \u001b[0mself\u001b[0m\u001b[0;34m.\u001b[0m\u001b[0mforward\u001b[0m\u001b[0;34m(\u001b[0m\u001b[0;34m*\u001b[0m\u001b[0minput\u001b[0m\u001b[0;34m,\u001b[0m \u001b[0;34m**\u001b[0m\u001b[0mkwargs\u001b[0m\u001b[0;34m)\u001b[0m\u001b[0;34m\u001b[0m\u001b[0;34m\u001b[0m\u001b[0m\n\u001b[0m\u001b[1;32m    494\u001b[0m         \u001b[0;32mfor\u001b[0m \u001b[0mhook\u001b[0m \u001b[0;32min\u001b[0m \u001b[0mself\u001b[0m\u001b[0;34m.\u001b[0m\u001b[0m_forward_hooks\u001b[0m\u001b[0;34m.\u001b[0m\u001b[0mvalues\u001b[0m\u001b[0;34m(\u001b[0m\u001b[0;34m)\u001b[0m\u001b[0;34m:\u001b[0m\u001b[0;34m\u001b[0m\u001b[0;34m\u001b[0m\u001b[0m\n\u001b[1;32m    495\u001b[0m             \u001b[0mhook_result\u001b[0m \u001b[0;34m=\u001b[0m \u001b[0mhook\u001b[0m\u001b[0;34m(\u001b[0m\u001b[0mself\u001b[0m\u001b[0;34m,\u001b[0m \u001b[0minput\u001b[0m\u001b[0;34m,\u001b[0m \u001b[0mresult\u001b[0m\u001b[0;34m)\u001b[0m\u001b[0;34m\u001b[0m\u001b[0;34m\u001b[0m\u001b[0m\n",
      "\u001b[0;32m/home/append/Workspace/adversarial/src_adv/sim_model/res_new.py\u001b[0m in \u001b[0;36mforward\u001b[0;34m(self, x)\u001b[0m\n\u001b[1;32m    170\u001b[0m \u001b[0;34m\u001b[0m\u001b[0m\n\u001b[1;32m    171\u001b[0m     \u001b[0;32mdef\u001b[0m \u001b[0mforward\u001b[0m\u001b[0;34m(\u001b[0m\u001b[0mself\u001b[0m\u001b[0;34m,\u001b[0m \u001b[0mx\u001b[0m\u001b[0;34m)\u001b[0m\u001b[0;34m:\u001b[0m\u001b[0;34m\u001b[0m\u001b[0;34m\u001b[0m\u001b[0m\n\u001b[0;32m--> 172\u001b[0;31m         \u001b[0mout\u001b[0m \u001b[0;34m=\u001b[0m \u001b[0mself\u001b[0m\u001b[0;34m.\u001b[0m\u001b[0mget_conv\u001b[0m\u001b[0;34m(\u001b[0m\u001b[0mx\u001b[0m\u001b[0;34m)\u001b[0m\u001b[0;34m\u001b[0m\u001b[0;34m\u001b[0m\u001b[0m\n\u001b[0m\u001b[1;32m    173\u001b[0m         \u001b[0mscore\u001b[0m \u001b[0;34m=\u001b[0m \u001b[0mself\u001b[0m\u001b[0;34m.\u001b[0m\u001b[0mget_score\u001b[0m\u001b[0;34m(\u001b[0m\u001b[0mout\u001b[0m\u001b[0;34m)\u001b[0m\u001b[0;34m\u001b[0m\u001b[0;34m\u001b[0m\u001b[0m\n\u001b[1;32m    174\u001b[0m         \u001b[0;32mreturn\u001b[0m \u001b[0mscore\u001b[0m\u001b[0;34m\u001b[0m\u001b[0;34m\u001b[0m\u001b[0m\n",
      "\u001b[0;32m/home/append/Workspace/adversarial/src_adv/sim_model/res_new.py\u001b[0m in \u001b[0;36mget_conv\u001b[0;34m(self, x)\u001b[0m\n\u001b[1;32m    158\u001b[0m         \u001b[0mout\u001b[0m \u001b[0;34m=\u001b[0m \u001b[0mself\u001b[0m\u001b[0;34m.\u001b[0m\u001b[0mlayer1\u001b[0m\u001b[0;34m(\u001b[0m\u001b[0mout\u001b[0m\u001b[0;34m)\u001b[0m\u001b[0;34m\u001b[0m\u001b[0;34m\u001b[0m\u001b[0m\n\u001b[1;32m    159\u001b[0m         \u001b[0mout\u001b[0m \u001b[0;34m=\u001b[0m \u001b[0mself\u001b[0m\u001b[0;34m.\u001b[0m\u001b[0mlayer2\u001b[0m\u001b[0;34m(\u001b[0m\u001b[0mout\u001b[0m\u001b[0;34m)\u001b[0m\u001b[0;34m\u001b[0m\u001b[0;34m\u001b[0m\u001b[0m\n\u001b[0;32m--> 160\u001b[0;31m         \u001b[0mout\u001b[0m \u001b[0;34m=\u001b[0m \u001b[0mself\u001b[0m\u001b[0;34m.\u001b[0m\u001b[0mlayer3\u001b[0m\u001b[0;34m(\u001b[0m\u001b[0mout\u001b[0m\u001b[0;34m)\u001b[0m\u001b[0;34m\u001b[0m\u001b[0;34m\u001b[0m\u001b[0m\n\u001b[0m\u001b[1;32m    161\u001b[0m         \u001b[0mout\u001b[0m \u001b[0;34m=\u001b[0m \u001b[0mself\u001b[0m\u001b[0;34m.\u001b[0m\u001b[0mlayer4\u001b[0m\u001b[0;34m(\u001b[0m\u001b[0mout\u001b[0m\u001b[0;34m)\u001b[0m\u001b[0;34m\u001b[0m\u001b[0;34m\u001b[0m\u001b[0m\n\u001b[1;32m    162\u001b[0m         \u001b[0;32mreturn\u001b[0m \u001b[0mout\u001b[0m\u001b[0;34m\u001b[0m\u001b[0;34m\u001b[0m\u001b[0m\n",
      "\u001b[0;32m/usr/custom/anaconda3/lib/python3.6/site-packages/torch/nn/modules/module.py\u001b[0m in \u001b[0;36m__call__\u001b[0;34m(self, *input, **kwargs)\u001b[0m\n\u001b[1;32m    491\u001b[0m             \u001b[0mresult\u001b[0m \u001b[0;34m=\u001b[0m \u001b[0mself\u001b[0m\u001b[0;34m.\u001b[0m\u001b[0m_slow_forward\u001b[0m\u001b[0;34m(\u001b[0m\u001b[0;34m*\u001b[0m\u001b[0minput\u001b[0m\u001b[0;34m,\u001b[0m \u001b[0;34m**\u001b[0m\u001b[0mkwargs\u001b[0m\u001b[0;34m)\u001b[0m\u001b[0;34m\u001b[0m\u001b[0;34m\u001b[0m\u001b[0m\n\u001b[1;32m    492\u001b[0m         \u001b[0;32melse\u001b[0m\u001b[0;34m:\u001b[0m\u001b[0;34m\u001b[0m\u001b[0;34m\u001b[0m\u001b[0m\n\u001b[0;32m--> 493\u001b[0;31m             \u001b[0mresult\u001b[0m \u001b[0;34m=\u001b[0m \u001b[0mself\u001b[0m\u001b[0;34m.\u001b[0m\u001b[0mforward\u001b[0m\u001b[0;34m(\u001b[0m\u001b[0;34m*\u001b[0m\u001b[0minput\u001b[0m\u001b[0;34m,\u001b[0m \u001b[0;34m**\u001b[0m\u001b[0mkwargs\u001b[0m\u001b[0;34m)\u001b[0m\u001b[0;34m\u001b[0m\u001b[0;34m\u001b[0m\u001b[0m\n\u001b[0m\u001b[1;32m    494\u001b[0m         \u001b[0;32mfor\u001b[0m \u001b[0mhook\u001b[0m \u001b[0;32min\u001b[0m \u001b[0mself\u001b[0m\u001b[0;34m.\u001b[0m\u001b[0m_forward_hooks\u001b[0m\u001b[0;34m.\u001b[0m\u001b[0mvalues\u001b[0m\u001b[0;34m(\u001b[0m\u001b[0;34m)\u001b[0m\u001b[0;34m:\u001b[0m\u001b[0;34m\u001b[0m\u001b[0;34m\u001b[0m\u001b[0m\n\u001b[1;32m    495\u001b[0m             \u001b[0mhook_result\u001b[0m \u001b[0;34m=\u001b[0m \u001b[0mhook\u001b[0m\u001b[0;34m(\u001b[0m\u001b[0mself\u001b[0m\u001b[0;34m,\u001b[0m \u001b[0minput\u001b[0m\u001b[0;34m,\u001b[0m \u001b[0mresult\u001b[0m\u001b[0;34m)\u001b[0m\u001b[0;34m\u001b[0m\u001b[0;34m\u001b[0m\u001b[0m\n",
      "\u001b[0;32m/usr/custom/anaconda3/lib/python3.6/site-packages/torch/nn/modules/container.py\u001b[0m in \u001b[0;36mforward\u001b[0;34m(self, input)\u001b[0m\n\u001b[1;32m     90\u001b[0m     \u001b[0;32mdef\u001b[0m \u001b[0mforward\u001b[0m\u001b[0;34m(\u001b[0m\u001b[0mself\u001b[0m\u001b[0;34m,\u001b[0m \u001b[0minput\u001b[0m\u001b[0;34m)\u001b[0m\u001b[0;34m:\u001b[0m\u001b[0;34m\u001b[0m\u001b[0;34m\u001b[0m\u001b[0m\n\u001b[1;32m     91\u001b[0m         \u001b[0;32mfor\u001b[0m \u001b[0mmodule\u001b[0m \u001b[0;32min\u001b[0m \u001b[0mself\u001b[0m\u001b[0;34m.\u001b[0m\u001b[0m_modules\u001b[0m\u001b[0;34m.\u001b[0m\u001b[0mvalues\u001b[0m\u001b[0;34m(\u001b[0m\u001b[0;34m)\u001b[0m\u001b[0;34m:\u001b[0m\u001b[0;34m\u001b[0m\u001b[0;34m\u001b[0m\u001b[0m\n\u001b[0;32m---> 92\u001b[0;31m             \u001b[0minput\u001b[0m \u001b[0;34m=\u001b[0m \u001b[0mmodule\u001b[0m\u001b[0;34m(\u001b[0m\u001b[0minput\u001b[0m\u001b[0;34m)\u001b[0m\u001b[0;34m\u001b[0m\u001b[0;34m\u001b[0m\u001b[0m\n\u001b[0m\u001b[1;32m     93\u001b[0m         \u001b[0;32mreturn\u001b[0m \u001b[0minput\u001b[0m\u001b[0;34m\u001b[0m\u001b[0;34m\u001b[0m\u001b[0m\n\u001b[1;32m     94\u001b[0m \u001b[0;34m\u001b[0m\u001b[0m\n",
      "\u001b[0;32m/usr/custom/anaconda3/lib/python3.6/site-packages/torch/nn/modules/module.py\u001b[0m in \u001b[0;36m__call__\u001b[0;34m(self, *input, **kwargs)\u001b[0m\n\u001b[1;32m    491\u001b[0m             \u001b[0mresult\u001b[0m \u001b[0;34m=\u001b[0m \u001b[0mself\u001b[0m\u001b[0;34m.\u001b[0m\u001b[0m_slow_forward\u001b[0m\u001b[0;34m(\u001b[0m\u001b[0;34m*\u001b[0m\u001b[0minput\u001b[0m\u001b[0;34m,\u001b[0m \u001b[0;34m**\u001b[0m\u001b[0mkwargs\u001b[0m\u001b[0;34m)\u001b[0m\u001b[0;34m\u001b[0m\u001b[0;34m\u001b[0m\u001b[0m\n\u001b[1;32m    492\u001b[0m         \u001b[0;32melse\u001b[0m\u001b[0;34m:\u001b[0m\u001b[0;34m\u001b[0m\u001b[0;34m\u001b[0m\u001b[0m\n\u001b[0;32m--> 493\u001b[0;31m             \u001b[0mresult\u001b[0m \u001b[0;34m=\u001b[0m \u001b[0mself\u001b[0m\u001b[0;34m.\u001b[0m\u001b[0mforward\u001b[0m\u001b[0;34m(\u001b[0m\u001b[0;34m*\u001b[0m\u001b[0minput\u001b[0m\u001b[0;34m,\u001b[0m \u001b[0;34m**\u001b[0m\u001b[0mkwargs\u001b[0m\u001b[0;34m)\u001b[0m\u001b[0;34m\u001b[0m\u001b[0;34m\u001b[0m\u001b[0m\n\u001b[0m\u001b[1;32m    494\u001b[0m         \u001b[0;32mfor\u001b[0m \u001b[0mhook\u001b[0m \u001b[0;32min\u001b[0m \u001b[0mself\u001b[0m\u001b[0;34m.\u001b[0m\u001b[0m_forward_hooks\u001b[0m\u001b[0;34m.\u001b[0m\u001b[0mvalues\u001b[0m\u001b[0;34m(\u001b[0m\u001b[0;34m)\u001b[0m\u001b[0;34m:\u001b[0m\u001b[0;34m\u001b[0m\u001b[0;34m\u001b[0m\u001b[0m\n\u001b[1;32m    495\u001b[0m             \u001b[0mhook_result\u001b[0m \u001b[0;34m=\u001b[0m \u001b[0mhook\u001b[0m\u001b[0;34m(\u001b[0m\u001b[0mself\u001b[0m\u001b[0;34m,\u001b[0m \u001b[0minput\u001b[0m\u001b[0;34m,\u001b[0m \u001b[0mresult\u001b[0m\u001b[0;34m)\u001b[0m\u001b[0;34m\u001b[0m\u001b[0;34m\u001b[0m\u001b[0m\n",
      "\u001b[0;32m/home/append/Workspace/adversarial/src_adv/sim_model/res_new.py\u001b[0m in \u001b[0;36mforward\u001b[0;34m(self, x)\u001b[0m\n\u001b[1;32m     96\u001b[0m \u001b[0;34m\u001b[0m\u001b[0m\n\u001b[1;32m     97\u001b[0m     \u001b[0;32mdef\u001b[0m \u001b[0mforward\u001b[0m\u001b[0;34m(\u001b[0m\u001b[0mself\u001b[0m\u001b[0;34m,\u001b[0m \u001b[0mx\u001b[0m\u001b[0;34m)\u001b[0m\u001b[0;34m:\u001b[0m\u001b[0;34m\u001b[0m\u001b[0;34m\u001b[0m\u001b[0m\n\u001b[0;32m---> 98\u001b[0;31m         \u001b[0mout\u001b[0m \u001b[0;34m=\u001b[0m \u001b[0mF\u001b[0m\u001b[0;34m.\u001b[0m\u001b[0mrelu\u001b[0m\u001b[0;34m(\u001b[0m\u001b[0mself\u001b[0m\u001b[0;34m.\u001b[0m\u001b[0mbn1\u001b[0m\u001b[0;34m(\u001b[0m\u001b[0mself\u001b[0m\u001b[0;34m.\u001b[0m\u001b[0mconv1\u001b[0m\u001b[0;34m(\u001b[0m\u001b[0mx\u001b[0m\u001b[0;34m)\u001b[0m\u001b[0;34m)\u001b[0m\u001b[0;34m,\u001b[0m \u001b[0;34m)\u001b[0m\u001b[0;34m\u001b[0m\u001b[0;34m\u001b[0m\u001b[0m\n\u001b[0m\u001b[1;32m     99\u001b[0m         \u001b[0mout\u001b[0m \u001b[0;34m=\u001b[0m \u001b[0mself\u001b[0m\u001b[0;34m.\u001b[0m\u001b[0mbn2\u001b[0m\u001b[0;34m(\u001b[0m\u001b[0mself\u001b[0m\u001b[0;34m.\u001b[0m\u001b[0mconv2\u001b[0m\u001b[0;34m(\u001b[0m\u001b[0mout\u001b[0m\u001b[0;34m)\u001b[0m\u001b[0;34m)\u001b[0m\u001b[0;34m\u001b[0m\u001b[0;34m\u001b[0m\u001b[0m\n\u001b[1;32m    100\u001b[0m         \u001b[0mout\u001b[0m \u001b[0;34m+=\u001b[0m \u001b[0mself\u001b[0m\u001b[0;34m.\u001b[0m\u001b[0mshortcut\u001b[0m\u001b[0;34m(\u001b[0m\u001b[0mx\u001b[0m\u001b[0;34m)\u001b[0m\u001b[0;34m\u001b[0m\u001b[0;34m\u001b[0m\u001b[0m\n",
      "\u001b[0;32m/usr/custom/anaconda3/lib/python3.6/site-packages/torch/nn/modules/module.py\u001b[0m in \u001b[0;36m__call__\u001b[0;34m(self, *input, **kwargs)\u001b[0m\n\u001b[1;32m    491\u001b[0m             \u001b[0mresult\u001b[0m \u001b[0;34m=\u001b[0m \u001b[0mself\u001b[0m\u001b[0;34m.\u001b[0m\u001b[0m_slow_forward\u001b[0m\u001b[0;34m(\u001b[0m\u001b[0;34m*\u001b[0m\u001b[0minput\u001b[0m\u001b[0;34m,\u001b[0m \u001b[0;34m**\u001b[0m\u001b[0mkwargs\u001b[0m\u001b[0;34m)\u001b[0m\u001b[0;34m\u001b[0m\u001b[0;34m\u001b[0m\u001b[0m\n\u001b[1;32m    492\u001b[0m         \u001b[0;32melse\u001b[0m\u001b[0;34m:\u001b[0m\u001b[0;34m\u001b[0m\u001b[0;34m\u001b[0m\u001b[0m\n\u001b[0;32m--> 493\u001b[0;31m             \u001b[0mresult\u001b[0m \u001b[0;34m=\u001b[0m \u001b[0mself\u001b[0m\u001b[0;34m.\u001b[0m\u001b[0mforward\u001b[0m\u001b[0;34m(\u001b[0m\u001b[0;34m*\u001b[0m\u001b[0minput\u001b[0m\u001b[0;34m,\u001b[0m \u001b[0;34m**\u001b[0m\u001b[0mkwargs\u001b[0m\u001b[0;34m)\u001b[0m\u001b[0;34m\u001b[0m\u001b[0;34m\u001b[0m\u001b[0m\n\u001b[0m\u001b[1;32m    494\u001b[0m         \u001b[0;32mfor\u001b[0m \u001b[0mhook\u001b[0m \u001b[0;32min\u001b[0m \u001b[0mself\u001b[0m\u001b[0;34m.\u001b[0m\u001b[0m_forward_hooks\u001b[0m\u001b[0;34m.\u001b[0m\u001b[0mvalues\u001b[0m\u001b[0;34m(\u001b[0m\u001b[0;34m)\u001b[0m\u001b[0;34m:\u001b[0m\u001b[0;34m\u001b[0m\u001b[0;34m\u001b[0m\u001b[0m\n\u001b[1;32m    495\u001b[0m             \u001b[0mhook_result\u001b[0m \u001b[0;34m=\u001b[0m \u001b[0mhook\u001b[0m\u001b[0;34m(\u001b[0m\u001b[0mself\u001b[0m\u001b[0;34m,\u001b[0m \u001b[0minput\u001b[0m\u001b[0;34m,\u001b[0m \u001b[0mresult\u001b[0m\u001b[0;34m)\u001b[0m\u001b[0;34m\u001b[0m\u001b[0;34m\u001b[0m\u001b[0m\n",
      "\u001b[0;32m<ipython-input-4-60bf5ebdf994>\u001b[0m in \u001b[0;36mforward\u001b[0;34m(self, x)\u001b[0m\n\u001b[1;32m     14\u001b[0m         \u001b[0mx\u001b[0m \u001b[0;34m=\u001b[0m \u001b[0mx\u001b[0m \u001b[0;34m-\u001b[0m \u001b[0mx\u001b[0m\u001b[0;34m.\u001b[0m\u001b[0mmean\u001b[0m\u001b[0;34m(\u001b[0m\u001b[0;34m[\u001b[0m\u001b[0;36m2\u001b[0m\u001b[0;34m,\u001b[0m\u001b[0;36m3\u001b[0m\u001b[0;34m]\u001b[0m\u001b[0;34m,\u001b[0m \u001b[0mkeepdim\u001b[0m\u001b[0;34m=\u001b[0m\u001b[0;32mTrue\u001b[0m\u001b[0;34m)\u001b[0m\u001b[0;34m\u001b[0m\u001b[0;34m\u001b[0m\u001b[0m\n\u001b[1;32m     15\u001b[0m         \u001b[0mnorm\u001b[0m \u001b[0;34m=\u001b[0m \u001b[0mtorch\u001b[0m\u001b[0;34m.\u001b[0m\u001b[0msqrt\u001b[0m\u001b[0;34m(\u001b[0m\u001b[0mtorch\u001b[0m\u001b[0;34m.\u001b[0m\u001b[0mmean\u001b[0m\u001b[0;34m(\u001b[0m\u001b[0mx\u001b[0m\u001b[0;34m**\u001b[0m\u001b[0;36m2\u001b[0m\u001b[0;34m,\u001b[0m \u001b[0mdim\u001b[0m\u001b[0;34m=\u001b[0m\u001b[0;34m[\u001b[0m\u001b[0;36m2\u001b[0m\u001b[0;34m,\u001b[0m\u001b[0;36m3\u001b[0m\u001b[0;34m]\u001b[0m\u001b[0;34m,\u001b[0m \u001b[0mkeepdim\u001b[0m\u001b[0;34m=\u001b[0m\u001b[0;32mTrue\u001b[0m\u001b[0;34m)\u001b[0m \u001b[0;34m+\u001b[0m \u001b[0mself\u001b[0m\u001b[0;34m.\u001b[0m\u001b[0meps\u001b[0m\u001b[0;34m)\u001b[0m\u001b[0;34m\u001b[0m\u001b[0;34m\u001b[0m\u001b[0m\n\u001b[0;32m---> 16\u001b[0;31m         \u001b[0mx\u001b[0m \u001b[0;34m=\u001b[0m \u001b[0mself\u001b[0m\u001b[0;34m.\u001b[0m\u001b[0mstd\u001b[0m \u001b[0;34m*\u001b[0m \u001b[0mx\u001b[0m \u001b[0;34m/\u001b[0m \u001b[0mtorch\u001b[0m\u001b[0;34m.\u001b[0m\u001b[0mmax\u001b[0m\u001b[0;34m(\u001b[0m\u001b[0mnorm\u001b[0m\u001b[0;34m,\u001b[0m \u001b[0mself\u001b[0m\u001b[0;34m.\u001b[0m\u001b[0mminl\u001b[0m\u001b[0;34m*\u001b[0m\u001b[0mtorch\u001b[0m\u001b[0;34m.\u001b[0m\u001b[0mones_like\u001b[0m\u001b[0;34m(\u001b[0m\u001b[0mnorm\u001b[0m\u001b[0;34m)\u001b[0m\u001b[0;34m)\u001b[0m\u001b[0;34m\u001b[0m\u001b[0;34m\u001b[0m\u001b[0m\n\u001b[0m\u001b[1;32m     17\u001b[0m         \u001b[0;32mreturn\u001b[0m \u001b[0mx\u001b[0m\u001b[0;34m\u001b[0m\u001b[0;34m\u001b[0m\u001b[0m\n",
      "\u001b[0;31mKeyboardInterrupt\u001b[0m: "
     ]
    }
   ],
   "source": [
    "sdir = './runs/res18_cond5'\n",
    "optimizer = optim.Adam(model.parameters(), lr=0.001, weight_decay=1e-4)\n",
    "tloss, tacc = Pipeline(sdir, model, optimizer, 'res18', 45)"
   ]
  },
  {
   "cell_type": "code",
   "execution_count": null,
   "metadata": {
    "collapsed": true
   },
   "outputs": [],
   "source": []
  },
  {
   "cell_type": "code",
   "execution_count": null,
   "metadata": {
    "collapsed": true
   },
   "outputs": [],
   "source": []
  },
  {
   "cell_type": "code",
   "execution_count": null,
   "metadata": {
    "collapsed": true
   },
   "outputs": [],
   "source": []
  },
  {
   "cell_type": "code",
   "execution_count": null,
   "metadata": {
    "collapsed": true
   },
   "outputs": [],
   "source": []
  },
  {
   "cell_type": "code",
   "execution_count": null,
   "metadata": {
    "collapsed": true
   },
   "outputs": [],
   "source": []
  },
  {
   "cell_type": "code",
   "execution_count": null,
   "metadata": {
    "collapsed": true
   },
   "outputs": [],
   "source": []
  },
  {
   "cell_type": "code",
   "execution_count": null,
   "metadata": {
    "collapsed": true
   },
   "outputs": [],
   "source": []
  },
  {
   "cell_type": "code",
   "execution_count": null,
   "metadata": {
    "collapsed": true
   },
   "outputs": [],
   "source": []
  },
  {
   "cell_type": "code",
   "execution_count": null,
   "metadata": {
    "collapsed": true
   },
   "outputs": [],
   "source": []
  }
 ],
 "metadata": {
  "kernelspec": {
   "display_name": "Python 3",
   "language": "python",
   "name": "python3"
  },
  "language_info": {
   "codemirror_mode": {
    "name": "ipython",
    "version": 3
   },
   "file_extension": ".py",
   "mimetype": "text/x-python",
   "name": "python",
   "nbconvert_exporter": "python",
   "pygments_lexer": "ipython3",
   "version": "3.6.3"
  },
  "latex_envs": {
   "LaTeX_envs_menu_present": true,
   "autoclose": false,
   "autocomplete": true,
   "bibliofile": "biblio.bib",
   "cite_by": "apalike",
   "current_citInitial": 1,
   "eqLabelWithNumbers": true,
   "eqNumInitial": 1,
   "hotkeys": {
    "equation": "Ctrl-E",
    "itemize": "Ctrl-I"
   },
   "labels_anchors": false,
   "latex_user_defs": false,
   "report_style_numbering": false,
   "user_envs_cfg": false
  },
  "toc": {
   "base_numbering": 1,
   "nav_menu": {},
   "number_sections": true,
   "sideBar": true,
   "skip_h1_title": false,
   "title_cell": "Table of Contents",
   "title_sidebar": "Contents",
   "toc_cell": false,
   "toc_position": {
    "height": "calc(100% - 180px)",
    "left": "10px",
    "top": "150px",
    "width": "370.984px"
   },
   "toc_section_display": true,
   "toc_window_display": true
  },
  "varInspector": {
   "cols": {
    "lenName": 16,
    "lenType": 16,
    "lenVar": 40
   },
   "kernels_config": {
    "python": {
     "delete_cmd_postfix": "",
     "delete_cmd_prefix": "del ",
     "library": "var_list.py",
     "varRefreshCmd": "print(var_dic_list())"
    },
    "r": {
     "delete_cmd_postfix": ") ",
     "delete_cmd_prefix": "rm(",
     "library": "var_list.r",
     "varRefreshCmd": "cat(var_dic_list()) "
    }
   },
   "position": {
    "height": "144px",
    "left": "1484px",
    "right": "20px",
    "top": "120px",
    "width": "350px"
   },
   "types_to_exclude": [
    "module",
    "function",
    "builtin_function_or_method",
    "instance",
    "_Feature"
   ],
   "window_display": true
  }
 },
 "nbformat": 4,
 "nbformat_minor": 2
}
